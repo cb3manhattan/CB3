{
 "cells": [
  {
   "cell_type": "code",
   "execution_count": null,
   "id": "935d8efc",
   "metadata": {},
   "outputs": [],
   "source": [
    "# This script scrapes Build the Block meeting info off of city website \n",
    "# TODO\n"
   ]
  },
  {
   "cell_type": "code",
   "execution_count": 82,
   "id": "5d30f75d",
   "metadata": {},
   "outputs": [],
   "source": [
    "import os\n",
    "import requests\n",
    "import pandas as pd\n",
    "import json\n",
    "import re"
   ]
  },
  {
   "cell_type": "code",
   "execution_count": null,
   "id": "7f87450c",
   "metadata": {},
   "outputs": [],
   "source": [
    "#These are all of the main variables used to build a call url to the the census api website\n",
    "\n",
    "HOST = \"https://www1.nyc.gov/assets/nypd/js/\"\n",
    "MEETINGS_JS = \"meetings.js\"\n",
    "base_url = \"/\".join([HOST, MEETINGS_JS])"
   ]
  },
  {
   "cell_type": "code",
   "execution_count": null,
   "id": "8f345355",
   "metadata": {},
   "outputs": [],
   "source": [
    "# Get request, and create variable that holds request content. \n",
    "Meeting_Request = requests.get(base_url)\n",
    "Meetings = Meeting_Request.content"
   ]
  },
  {
   "cell_type": "code",
   "execution_count": null,
   "id": "9d7584b8",
   "metadata": {},
   "outputs": [],
   "source": [
    "# Create string from request content\n",
    "Meetings = str(Meetings)\n",
    "type(Meetings)"
   ]
  },
  {
   "cell_type": "code",
   "execution_count": null,
   "id": "09e58f50",
   "metadata": {},
   "outputs": [],
   "source": [
    "# First line in requested data (meetings.js) from NYPD site is the creation of an empty array. \n",
    "# This removes the first line of code and the line break characters\n",
    "meeting_start = Meetings.find('\\\\r\\\\n')\n",
    "meeting_start = meeting_start + 4\n",
    "Meetings = Meetings[meeting_start:]"
   ]
  },
  {
   "cell_type": "code",
   "execution_count": null,
   "id": "1c3cf95a",
   "metadata": {},
   "outputs": [],
   "source": [
    "# Gets all expressions meeting variable assignment pattern. \n",
    "regular_expression_results = re.findall(\"meetings\\[[0-9]+\\] = \", Meetings)\n",
    "print(len(regular_expression_results))"
   ]
  },
  {
   "cell_type": "code",
   "execution_count": null,
   "id": "97bb4ad8",
   "metadata": {},
   "outputs": [],
   "source": [
    "# Delete substrings that match regex pattern in previous steps\n",
    "# re.sub(pattern, repl, string, count=0, flags=0)\n",
    "meetings_revised = re.sub(\"meetings\\[[0-9]+\\] = \",'',Meetings)\n",
    "print(len(meetings_revised))"
   ]
  },
  {
   "cell_type": "code",
   "execution_count": null,
   "id": "082a8a9d",
   "metadata": {},
   "outputs": [],
   "source": [
    "# Parse meeting string into list. \n",
    "meeting_list = meetings_revised.split(r';\\r\\n')\n",
    "print(len(meeting_list))"
   ]
  },
  {
   "cell_type": "code",
   "execution_count": 48,
   "id": "b0836abe",
   "metadata": {},
   "outputs": [
    {
     "name": "stdout",
     "output_type": "stream",
     "text": [
      "0 [\"1\",\"A\",\"\",\"\",\"The Build the Block meeting for your neighborhood in this quarter (1Q-2022) has passed. Please check back at the end of March, 2022 for information on your next Build the Block Meeting in this sector. We look forward to seeing you and discussing what is happening in your neighborhood!\",\"\",\"\",\"\",\"\",\"https://www.facebook.com/NYPD1PCT\",\"All meeting times, dates, and locations are subject to change. Please call your local precinct and speak to a Neighborhood Coordination Officer to verify correct meeting information.\"]\n",
      "1 [\"1\",\"B\",\"\",\"\",\"The Build the Block meeting for your neighborhood in this quarter (1Q-2022) has passed. Please check back at the end of March, 2022 for information on your next Build the Block Meeting in this sector. We look forward to seeing you and discussing what is happening in your neighborhood!\",\"\",\"\",\"\",\"\",\"https://www.facebook.com/NYPD1PCT\",\"All meeting times, dates, and locations are subject to change. Please call your local precinct and speak to a Neighborhood Coordination Officer to verify correct meeting information.\"]\n",
      "2 [\"1\",\"C\",\"\",\"\",\"The Build the Block meeting for your neighborhood in this quarter (1Q-2022) has passed. Please check back at the end of March, 2022 for information on your next Build the Block Meeting in this sector. We look forward to seeing you and discussing what is happening in your neighborhood!\",\"\",\"\",\"\",\"\",\"https://www.facebook.com/NYPD1PCT\",\"All meeting times, dates, and locations are subject to change. Please call your local precinct and speak to a Neighborhood Coordination Officer to verify correct meeting information.\"]\n",
      "3 [\"1\",\"D\",\"3/9/2022\",\"6:00 PM\",\"Please join us for a Virtual Meeting by using the following information. We look forward to hearing from you.\",\"Zoom Meeting ID: 161 118 6706 Passcode: @1PCTBTB\",\"\",\"\",\"\",\"https://www.facebook.com/NYPD1PCT\",\"All meeting times, dates, and locations are subject to change. Please call your local precinct and speak to a Neighborhood Coordination Officer to verify correct meeting information.\"]\n",
      "4 [\"5\",\"A\",\"\",\"\",\"The Build the Block meeting for your neighborhood in this quarter (1Q-2022) has passed. Please check back at the end of March, 2022 for information on your next Build the Block Meeting in this sector. We look forward to seeing you and discussing what is happening in your neighborhood!\",\"\",\"\",\"\",\"\",\"https://www.facebook.com/NYPD5pct\",\"All meeting times, dates, and locations are subject to change. Please call your local precinct and speak to a Neighborhood Coordination Officer to verify correct meeting information.\"]\n",
      "5 [\"5\",\"B\",\"\",\"\",\"The Build the Block meeting for your neighborhood in this quarter (1Q-2022) has passed. Please check back at the end of March, 2022 for information on your next Build the Block Meeting in this sector. We look forward to seeing you and discussing what is happening in your neighborhood!\",\"\",\"\",\"\",\"\",\"https://www.facebook.com/NYPD5pct\",\"All meeting times, dates, and locations are subject to change. Please call your local precinct and speak to a Neighborhood Coordination Officer to verify correct meeting information.\"]\n",
      "6 [\"5\",\"C\",\"3/9/2022\",\"6:30 PM\",\"Please join us for a Virtual Meeting by using the following information. We look forward to hearing from you.\",\"Zoom Meeting ID: 160 228 4033  Passcode: NCOC-005\",\"\",\"\",\"\",\"https://www.facebook.com/NYPD5pct\",\"All meeting times, dates, and locations are subject to change. Please call your local precinct and speak to a Neighborhood Coordination Officer to verify correct meeting information.\"]\n",
      "7 [\"6\",\"A\",\"3/24/2022\",\"6:30 PM\",\"Please join us for a Virtual Meeting by using the following information. We look forward to hearing from you.\",\"Zoom Meeting ID: 429 754 6555\",\"\",\"\",\"\",\"https://www.facebook.com/NYPD6pct\",\"All meeting times, dates, and locations are subject to change. Please call your local precinct and speak to a Neighborhood Coordination Officer to verify correct meeting information.\"]\n",
      "8 [\"6\",\"B\",\"3/31/2022\",\"6:30 PM\",\"Please check back later for information on how to join our Virtual Meeting. We look forward to hearing from you.\",\"\",\"\",\"\",\"\",\"https://www.facebook.com/NYPD6pct\",\"All meeting times, dates, and locations are subject to change. Please call your local precinct and speak to a Neighborhood Coordination Officer to verify correct meeting information.\"]\n",
      "9 [\"6\",\"C\",\"\",\"\",\"The Build the Block meeting for your neighborhood in this quarter (1Q-2022) has passed. Please check back at the end of March, 2022 for information on your next Build the Block Meeting in this sector. We look forward to seeing you and discussing what is happening in your neighborhood!\",\"\",\"\",\"\",\"\",\"https://www.facebook.com/NYPD6pct\",\"All meeting times, dates, and locations are subject to change. Please call your local precinct and speak to a Neighborhood Coordination Officer to verify correct meeting information.\"]\n",
      "10 [\"6\",\"D\",\"\",\"\",\"The Build the Block meeting for your neighborhood in this quarter (1Q-2022) has passed. Please check back at the end of March, 2022 for information on your next Build the Block Meeting in this sector. We look forward to seeing you and discussing what is happening in your neighborhood!\",\"\",\"\",\"\",\"\",\"https://www.facebook.com/NYPD6pct\",\"All meeting times, dates, and locations are subject to change. Please call your local precinct and speak to a Neighborhood Coordination Officer to verify correct meeting information.\"]\n",
      "11 [\"7\",\"A\",\"\",\"\",\"The Build the Block meeting for your neighborhood in this quarter (1Q-2022) has passed. Please check back at the end of March, 2022 for information on your next Build the Block Meeting in this sector. We look forward to seeing you and discussing what is happening in your neighborhood!\",\"\",\"\",\"\",\"\",\"https://www.facebook.com/NYPD7pct\",\"All meeting times, dates, and locations are subject to change. Please call your local precinct and speak to a Neighborhood Coordination Officer to verify correct meeting information.\"]\n",
      "12 [\"7\",\"B\",\"\",\"\",\"The Build the Block meeting for your neighborhood in this quarter (1Q-2022) has passed. Please check back at the end of March, 2022 for information on your next Build the Block Meeting in this sector. We look forward to seeing you and discussing what is happening in your neighborhood!\",\"\",\"\",\"\",\"\",\"https://www.facebook.com/NYPD7pct\",\"All meeting times, dates, and locations are subject to change. Please call your local precinct and speak to a Neighborhood Coordination Officer to verify correct meeting information.\"]\n",
      "13 [\"7\",\"C\",\"3/26/2022\",\"1:00 PM\",\"The Rivington Hotel\",\"107 Rivington Street\",\"New York\",\"NY\",\"10002\",\"https://www.facebook.com/NYPD7pct\",\"All meeting times, dates, and locations are subject to change. Please call your local precinct and speak to a Neighborhood Coordination Officer to verify correct meeting information.\"]\n",
      "14 [\"9\",\"A\",\"3/10/2022\",\"5:30 PM\",\"Boys & Girls Club\",\"888 East 6th Street\",\"New York\",\"NY\",\"10009\",\"https://www.facebook.com/NYPD9PCT\",\"All meeting times, dates, and locations are subject to change. Please call your local precinct and speak to a Neighborhood Coordination Officer to verify correct meeting information.\"]\n",
      "15 [\"9\",\"B\",\"3/16/2022\",\"6:00 PM\",\"Campos Plaza Community Center\",\"635 East 12th Street\",\"New York\",\"NY\",\"10009\",\"https://www.facebook.com/NYPD9PCT\",\"All meeting times, dates, and locations are subject to change. Please call your local precinct and speak to a Neighborhood Coordination Officer to verify correct meeting information.\"]\n",
      "16 [\"9\",\"C\",\"3/28/2022\",\"4:00 PM\",\"Community Board 3 Office\",\"59 East 4th Street\",\"New York\",\"NY\",\"10003\",\"https://www.facebook.com/NYPD9PCT\",\"All meeting times, dates, and locations are subject to change. Please call your local precinct and speak to a Neighborhood Coordination Officer to verify correct meeting information.\"]\n",
      "17 [\"9\",\"D\",\"3/23/2022\",\"6:00 PM\",\"Third Street Music School\",\"235 East 11th Street\",\"New York\",\"NY\",\"10003\",\"https://www.facebook.com/NYPD9PCT\",\"All meeting times, dates, and locations are subject to change. Please call your local precinct and speak to a Neighborhood Coordination Officer to verify correct meeting information.\"]\n",
      "18 [\"10\",\"A\",\"\",\"\",\"The Build the Block meeting for your neighborhood in this quarter (1Q-2022) has passed. Please check back at the end of March, 2022 for information on your next Build the Block Meeting in this sector. We look forward to seeing you and discussing what is happening in your neighborhood!\",\"\",\"\",\"\",\"\",\"https://www.facebook.com/NYPD10pct\",\"All meeting times, dates, and locations are subject to change. Please call your local precinct and speak to a Neighborhood Coordination Officer to verify correct meeting information.\"]\n",
      "19 [\"10\",\"B\",\"\",\"\",\"The Build the Block meeting for your neighborhood in this quarter (1Q-2022) has passed. Please check back at the end of March, 2022 for information on your next Build the Block Meeting in this sector. We look forward to seeing you and discussing what is happening in your neighborhood!\",\"\",\"\",\"\",\"\",\"https://www.facebook.com/NYPD10pct\",\"All meeting times, dates, and locations are subject to change. Please call your local precinct and speak to a Neighborhood Coordination Officer to verify correct meeting information.\"]\n",
      "20 [\"10\",\"C\",\"3/24/2022\",\"4:30 PM\",\"Please join us for a Virtual Meeting by using the following information. We look forward to hearing from you.\",\"Meeting ID: 160 3954 0526 Passcode: NYPD123!\",\"\",\"\",\"\",\"https://www.facebook.com/NYPD10pct\",\"All meeting times, dates, and locations are subject to change. Please call your local precinct and speak to a Neighborhood Coordination Officer to verify correct meeting information.\"]\n",
      "21 [\"13\",\"A\",\"3/31/2022\",\"6:30 PM\",\"Please join us for a Virtual Meeting by using the following information. We look forward to hearing from you.\",\"Zoom Meeting ID: 161 800 9520 Passcode: NCOA13PCT!\",\"\",\"\",\"\",\"https://www.facebook.com/NYPD13pct\",\"All meeting times, dates, and locations are subject to change. Please call your local precinct and speak to a Neighborhood Coordination Officer to verify correct meeting information.\"]\n",
      "22 [\"13\",\"B\",\"3/24/2022\",\"5:30 PM\",\"Please join us for a Virtual Meeting by using the following information. We look forward to hearing from you.\",\"Zoom Meeting ID: 161 275 2872 Passcode: NCOB13PCT!\",\"\",\"\",\"\",\"https://www.facebook.com/NYPD13pct\",\"All meeting times, dates, and locations are subject to change. Please call your local precinct and speak to a Neighborhood Coordination Officer to verify correct meeting information.\"]\n",
      "23 [\"13\",\"C\",\"\",\"\",\"The Build the Block meeting for your neighborhood in this quarter (1Q-2022) has passed. Please check back at the end of March, 2022 for information on your next Build the Block Meeting in this sector. We look forward to seeing you and discussing what is happening in your neighborhood!\",\"\",\"\",\"\",\"\",\"https://www.facebook.com/NYPD13pct\",\"All meeting times, dates, and locations are subject to change. Please call your local precinct and speak to a Neighborhood Coordination Officer to verify correct meeting information.\"]\n",
      "24 [\"13\",\"D\",\"\",\"\",\"The Build the Block meeting for your neighborhood in this quarter (1Q-2022) has passed. Please check back at the end of March, 2022 for information on your next Build the Block Meeting in this sector. We look forward to seeing you and discussing what is happening in your neighborhood!\",\"\",\"\",\"\",\"\",\"https://www.facebook.com/NYPD13pct\",\"All meeting times, dates, and locations are subject to change. Please call your local precinct and speak to a Neighborhood Coordination Officer to verify correct meeting information.\"]\n",
      "25 [\"14\",\"A\",\"\",\"\",\"The Build the Block meeting for your neighborhood in this quarter (1Q-2022) has passed. Please check back at the end of March, 2022 for information on your next Build the Block Meeting in this sector. We look forward to seeing you and discussing what is happening in your neighborhood!\",\"\",\"\",\"\",\"\",\"https://www.facebook.com/NYPDMTS\",\"All meeting times, dates, and locations are subject to change. Please call your local precinct and speak to a Neighborhood Coordination Officer to verify correct meeting information.\"]\n",
      "26 [\"14\",\"B\",\"3/25/2022\",\"12:00 PM\",\"Please join us for a Virtual Meeting by using the following information. We look forward to hearing from you.\",\"Zoom Meeting ID: 161 353 7350 Passcode: 014SECB!\",\"\",\"\",\"\",\"https://www.facebook.com/NYPDMTS\",\"All meeting times, dates, and locations are subject to change. Please call your local precinct and speak to a Neighborhood Coordination Officer to verify correct meeting information.\"]\n",
      "27 [\"14\",\"C\",\"\",\"\",\"The Build the Block meeting for your neighborhood in this quarter (1Q-2022) has passed. Please check back at the end of March, 2022 for information on your next Build the Block Meeting in this sector. We look forward to seeing you and discussing what is happening in your neighborhood!\",\"\",\"\",\"\",\"\",\"https://www.facebook.com/NYPDMTS\",\"All meeting times, dates, and locations are subject to change. Please call your local precinct and speak to a Neighborhood Coordination Officer to verify correct meeting information.\"]\n",
      "28 [\"14\",\"D\",\"\",\"\",\"The Build the Block meeting for your neighborhood in this quarter (1Q-2022) has passed. Please check back at the end of March, 2022 for information on your next Build the Block Meeting in this sector. We look forward to seeing you and discussing what is happening in your neighborhood!\",\"\",\"\",\"\",\"\",\"https://www.facebook.com/NYPDMTS\",\"All meeting times, dates, and locations are subject to change. Please call your local precinct and speak to a Neighborhood Coordination Officer to verify correct meeting information.\"]\n",
      "29 [\"14\",\"E\",\"3/18/2022\",\"6:00 PM\",\"Please join us for a Virtual Meeting by using the following information. We look forward to hearing from you.\",\"Zoom Meeting ID: 161 994 2946 Passcode: 014SECE!\",\"\",\"\",\"\",\"https://www.facebook.com/NYPDMTS\",\"All meeting times, dates, and locations are subject to change. Please call your local precinct and speak to a Neighborhood Coordination Officer to verify correct meeting information.\"]\n",
      "30 [\"17\",\"A\",\"\",\"\",\"The Build the Block meeting for your neighborhood in this quarter (1Q-2022) has passed. Please check back at the end of March, 2022 for information on your next Build the Block Meeting in this sector. We look forward to seeing you and discussing what is happening in your neighborhood!\",\"\",\"\",\"\",\"\",\"https://www.facebook.com/NYPD17PCT\",\"All meeting times, dates, and locations are subject to change. Please call your local precinct and speak to a Neighborhood Coordination Officer to verify correct meeting information.\"]\n",
      "31 [\"17\",\"B\",\"\",\"\",\"The Build the Block meeting for your neighborhood in this quarter (1Q-2022) has passed. Please check back at the end of March, 2022 for information on your next Build the Block Meeting in this sector. We look forward to seeing you and discussing what is happening in your neighborhood!\",\"\",\"\",\"\",\"\",\"https://www.facebook.com/NYPD17PCT\",\"All meeting times, dates, and locations are subject to change. Please call your local precinct and speak to a Neighborhood Coordination Officer to verify correct meeting information.\"]\n",
      "32 [\"17\",\"C\",\"3/12/2022\",\"11:30 AM\",\"Please check back later for information on how to join our Virtual Meeting. We look forward to hearing from you.\",\"\",\"\",\"\",\"\",\"https://www.facebook.com/NYPD17PCT\",\"All meeting times, dates, and locations are subject to change. Please call your local precinct and speak to a Neighborhood Coordination Officer to verify correct meeting information.\"]\n",
      "33 [\"18\",\"A\",\"3/15/2022\",\"1:00 PM\",\"Olympic Tower\",\"645 5th Avenue\",\"New York\",\"NY\",\"10022\",\"https://www.facebook.com/NYPDMTN\",\"All meeting times, dates, and locations are subject to change. Please call your local precinct and speak to a Neighborhood Coordination Officer to verify correct meeting information.\"]\n",
      "34 [\"18\",\"B\",\"\",\"\",\"The Build the Block meeting for your neighborhood in this quarter (1Q-2022) has passed. Please check back at the end of March, 2022 for information on your next Build the Block Meeting in this sector. We look forward to seeing you and discussing what is happening in your neighborhood!\",\"\",\"\",\"\",\"\",\"https://www.facebook.com/NYPDMTN\",\"All meeting times, dates, and locations are subject to change. Please call your local precinct and speak to a Neighborhood Coordination Officer to verify correct meeting information.\"]\n",
      "35 [\"18\",\"C\",\"3/11/2022\",\"5:00 PM\",\"Please join us for a Virtual Meeting by using the following information. We look forward to hearing from you.\",\"Zoom Meeting ID: 161 098 9394 Passcode: Winter22!\",\"\",\"\",\"\",\"https://www.facebook.com/NYPDMTN\",\"All meeting times, dates, and locations are subject to change. Please call your local precinct and speak to a Neighborhood Coordination Officer to verify correct meeting information.\"]\n",
      "36 [\"18\",\"D\",\"\",\"\",\"The Build the Block meeting for your neighborhood in this quarter (1Q-2022) has passed. Please check back at the end of March, 2022 for information on your next Build the Block Meeting in this sector. We look forward to seeing you and discussing what is happening in your neighborhood!\",\"\",\"\",\"\",\"\",\"https://www.facebook.com/NYPDMTN\",\"All meeting times, dates, and locations are subject to change. Please call your local precinct and speak to a Neighborhood Coordination Officer to verify correct meeting information.\"]\n",
      "37 [\"18\",\"E\",\"3/10/2022\",\"1:00 PM\",\"Deutsche Bank Center\",\"1 ColUmbus Circle\",\"New York\",\"NY\",\"10019\",\"https://www.facebook.com/NYPDMTN\",\"All meeting times, dates, and locations are subject to change. Please call your local precinct and speak to a Neighborhood Coordination Officer to verify correct meeting information.\"]\n",
      "38 [\"19\",\"A\",\"3/24/2022\",\"7:00 PM\",\"Please join us for a Virtual Meeting by using the following information. We look forward to hearing from you.\",\"Zoom Meeting ID: 867 2080 2892\",\"\",\"\",\"\",\"https://www.facebook.com/NYPD19pct\",\"All meeting times, dates, and locations are subject to change. Please call your local precinct and speak to a Neighborhood Coordination Officer to verify correct meeting information.\"]\n",
      "39 [\"19\",\"B\",\"\",\"\",\"The Build the Block meeting for your neighborhood in this quarter (1Q-2022) has passed. Please check back at the end of March, 2022 for information on your next Build the Block Meeting in this sector. We look forward to seeing you and discussing what is happening in your neighborhood!\",\"\",\"\",\"\",\"\",\"https://www.facebook.com/NYPD19pct\",\"All meeting times, dates, and locations are subject to change. Please call your local precinct and speak to a Neighborhood Coordination Officer to verify correct meeting information.\"]\n",
      "40 [\"19\",\"C\",\"3/31/2022\",\"7:00 PM\",\"Please join us for a Virtual Meeting by using the following information. We look forward to hearing from you.\",\"Zoom Meeting ID: 836 5490 4402\",\"\",\"\",\"\",\"https://www.facebook.com/NYPD33pct\",\"All meeting times, dates, and locations are subject to change. Please call your local precinct and speak to a Neighborhood Coordination Officer to verify correct meeting information.\"]\n",
      "41 [\"19\",\"D\",\"\",\"\",\"The Build the Block meeting for your neighborhood in this quarter (1Q-2022) has passed. Please check back at the end of March, 2022 for information on your next Build the Block Meeting in this sector. We look forward to seeing you and discussing what is happening in your neighborhood!\",\"\",\"\",\"\",\"\",\"https://www.facebook.com/NYPD19pct\",\"All meeting times, dates, and locations are subject to change. Please call your local precinct and speak to a Neighborhood Coordination Officer to verify correct meeting information.\"]\n",
      "42 [\"20\",\"A\",\"\",\"\",\"The Build the Block meeting for your neighborhood in this quarter (1Q-2022) has passed. Please check back at the end of March, 2022 for information on your next Build the Block Meeting in this sector. We look forward to seeing you and discussing what is happening in your neighborhood!\",\"\",\"\",\"\",\"\",\"https://www.facebook.com/NYPD20pct\",\"All meeting times, dates, and locations are subject to change. Please call your local precinct and speak to a Neighborhood Coordination Officer to verify correct meeting information.\"]\n",
      "43 [\"20\",\"B\",\"3/29/2022\",\"7:00 PM\",\"Please join us for a Virtual Meeting by using the following information. We look forward to hearing from you.\",\"Zoom Meeting ID: 804 632 2095 Passcode: 3xRqk6\",\"\",\"\",\"\",\"https://www.facebook.com/NYPD20pct\",\"All meeting times, dates, and locations are subject to change. Please call your local precinct and speak to a Neighborhood Coordination Officer to verify correct meeting information.\"]\n",
      "44 [\"20\",\"C\",\"\",\"\",\"The Build the Block meeting for your neighborhood in this quarter (1Q-2022) has passed. Please check back at the end of March, 2022 for information on your next Build the Block Meeting in this sector. We look forward to seeing you and discussing what is happening in your neighborhood!\",\"\",\"\",\"\",\"\",\"https://www.facebook.com/NYPD20pct\",\"All meeting times, dates, and locations are subject to change. Please call your local precinct and speak to a Neighborhood Coordination Officer to verify correct meeting information.\"]\n",
      "45 [\"23\",\"A\",\"3/24/2022\",\"5:30 PM\",\"1199 Housing\",\"2070 1st Avenue\",\"New York\",\"NY\",\"10029\",\"https://www.facebook.com/NYPD23pct\",\"All meeting times, dates, and locations are subject to change. Please call your local precinct and speak to a Neighborhood Coordination Officer to verify correct meeting information.\"]\n",
      "46 [\"23\",\"B\",\"3/31/2022\",\"5:30 PM\",\"Franklin Plaza\",\"225 East 106th Street\",\"New York\",\"NY\",\"10029\",\"https://www.facebook.com/NYPD23pct\",\"All meeting times, dates, and locations are subject to change. Please call your local precinct and speak to a Neighborhood Coordination Officer to verify correct meeting information.\"]\n",
      "47 [\"23\",\"C\",\"\",\"\",\"The Build the Block meeting for your neighborhood in this quarter (1Q-2022) has passed. Please check back at the end of March, 2022 for information on your next Build the Block Meeting in this sector. We look forward to seeing you and discussing what is happening in your neighborhood!\",\"\",\"\",\"\",\"\",\"https://www.facebook.com/NYPD23pct\",\"All meeting times, dates, and locations are subject to change. Please call your local precinct and speak to a Neighborhood Coordination Officer to verify correct meeting information.\"]\n",
      "48 [\"23\",\"D\",\"\",\"\",\"The Build the Block meeting for your neighborhood in this quarter (1Q-2022) has passed. Please check back at the end of March, 2022 for information on your next Build the Block Meeting in this sector. We look forward to seeing you and discussing what is happening in your neighborhood!\",\"\",\"\",\"\",\"\",\"https://www.facebook.com/NYPD23pct\",\"All meeting times, dates, and locations are subject to change. Please call your local precinct and speak to a Neighborhood Coordination Officer to verify correct meeting information.\"]\n",
      "49 [\"24\",\"A\",\"\",\"\",\"The Build the Block meeting for your neighborhood in this quarter (1Q-2022) has passed. Please check back at the end of March, 2022 for information on your next Build the Block Meeting in this sector. We look forward to seeing you and discussing what is happening in your neighborhood!\",\"\",\"\",\"\",\"\",\"https://www.facebook.com/NYPD24PCT\",\"All meeting times, dates, and locations are subject to change. Please call your local precinct and speak to a Neighborhood Coordination Officer to verify correct meeting information.\"]\n",
      "50 [\"24\",\"B\",\"\",\"\",\"The Build the Block meeting for your neighborhood in this quarter (1Q-2022) has passed. Please check back at the end of March, 2022 for information on your next Build the Block Meeting in this sector. We look forward to seeing you and discussing what is happening in your neighborhood!\",\"\",\"\",\"\",\"\",\"https://www.facebook.com/NYPD24PCT\",\"All meeting times, dates, and locations are subject to change. Please call your local precinct and speak to a Neighborhood Coordination Officer to verify correct meeting information.\"]\n",
      "51 [\"24\",\"C\",\"3/10/2022\",\"7:00 PM\",\"Please join us for a Virtual Meeting by using the following information. We look forward to hearing from you.\",\"Zoom Meeting ID: 804 632 2095 Passcode: 3xRqk6\",\"\",\"\",\"\",\"https://www.facebook.com/NYPD24PCT\",\"All meeting times, dates, and locations are subject to change. Please call your local precinct and speak to a Neighborhood Coordination Officer to verify correct meeting information.\"]\n",
      "52 [\"25\",\"A\",\"\",\"\",\"The Build the Block meeting for your neighborhood in this quarter (1Q-2022) has passed. Please check back at the end of March, 2022 for information on your next Build the Block Meeting in this sector. We look forward to seeing you and discussing what is happening in your neighborhood!\",\"\",\"\",\"\",\"\",\"https://www.facebook.com/NYPD25pct/\",\"All meeting times, dates, and locations are subject to change. Please call your local precinct and speak to a Neighborhood Coordination Officer to verify correct meeting information.\"]\n",
      "53 [\"25\",\"B\",\"3/10/2022\",\"5:00 PM\",\"Friendly Hands Ministry\",\"229 East 118th Street\",\"New York\",\"NY\",\"10035\",\"https://www.facebook.com/NYPD25pct/\",\"All meeting times, dates, and locations are subject to change. Please call your local precinct and speak to a Neighborhood Coordination Officer to verify correct meeting information.\"]\n",
      "54 [\"25\",\"C\",\"\",\"\",\"The Build the Block meeting for your neighborhood in this quarter (1Q-2022) has passed. Please check back at the end of March, 2022 for information on your next Build the Block Meeting in this sector. We look forward to seeing you and discussing what is happening in your neighborhood!\",\"\",\"\",\"\",\"\",\"https://www.facebook.com/NYPD33pct\",\"All meeting times, dates, and locations are subject to change. Please call your local precinct and speak to a Neighborhood Coordination Officer to verify correct meeting information.\"]\n",
      "55 [\"25\",\"D\",\"3/17/2022\",\"6:00 PM\",\"1775 Houses (Room 3AA)\",\"107 East 126th Street\",\"New York\",\"NY\",\"10035\",\"https://www.facebook.com/NYPD25pct/\",\"All meeting times, dates, and locations are subject to change. Please call your local precinct and speak to a Neighborhood Coordination Officer to verify correct meeting information.\"]\n",
      "56 [\"26\",\"A\",\"3/17/2022\",\"6:00 PM\",\"Please join us for a Virtual Meeting by using the following information. We look forward to hearing from you.\",\"Zoom Meeting ID: 804 632 2095 Passcode: 3xRqk6\",\"\",\"\",\"\",\"https://www.facebook.com/NYPD26pct\",\"All meeting times, dates, and locations are subject to change. Please call your local precinct and speak to a Neighborhood Coordination Officer to verify correct meeting information.\"]\n",
      "57 [\"26\",\"B\",\"\",\"\",\"The Build the Block meeting for your neighborhood in this quarter (1Q-2022) has passed. Please check back at the end of March, 2022 for information on your next Build the Block Meeting in this sector. We look forward to seeing you and discussing what is happening in your neighborhood!\",\"\",\"\",\"\",\"\",\"https://www.facebook.com/NYPD26pct\",\"All meeting times, dates, and locations are subject to change. Please call your local precinct and speak to a Neighborhood Coordination Officer to verify correct meeting information.\"]\n",
      "58 [\"26\",\"C\",\"\",\"\",\"The Build the Block meeting for your neighborhood in this quarter (1Q-2022) has passed. Please check back at the end of March, 2022 for information on your next Build the Block Meeting in this sector. We look forward to seeing you and discussing what is happening in your neighborhood!\",\"\",\"\",\"\",\"\",\"https://www.facebook.com/NYPD26PCT\",\"All meeting times, dates, and locations are subject to change. Please call your local precinct and speak to a Neighborhood Coordination Officer to verify correct meeting information.\"]\n",
      "59 [\"28\",\"A\",\"3/18/2022\",\"6:00 PM\",\"Please join us for a Virtual Meeting by using the following information. We look forward to hearing from you.\",\"Zoom Meeting ID: 160 022 2243\",\"\",\"\",\"\",\"https://www.facebook.com/NYPD28pct\",\"All meeting times, dates, and locations are subject to change. Please call your local precinct and speak to a Neighborhood Coordination Officer to verify correct meeting information.\"]\n",
      "60 [\"28\",\"B\",\"\",\"\",\"The Build the Block meeting for your neighborhood in this quarter (1Q-2022) has passed. Please check back at the end of March, 2022 for information on your next Build the Block Meeting in this sector. We look forward to seeing you and discussing what is happening in your neighborhood!\",\"\",\"\",\"\",\"\",\"https://www.facebook.com/NYPD28pct\",\"All meeting times, dates, and locations are subject to change. Please call your local precinct and speak to a Neighborhood Coordination Officer to verify correct meeting information.\"]\n",
      "61 [\"28\",\"C\",\"\",\"\",\"The Build the Block meeting for your neighborhood in this quarter (1Q-2022) has passed. Please check back at the end of March, 2022 for information on your next Build the Block Meeting in this sector. We look forward to seeing you and discussing what is happening in your neighborhood!\",\"\",\"\",\"\",\"\",\"https://www.facebook.com/NYPD28pct\",\"All meeting times, dates, and locations are subject to change. Please call your local precinct and speak to a Neighborhood Coordination Officer to verify correct meeting information.\"]\n",
      "62 [\"28\",\"D\",\"\",\"\",\"The Build the Block meeting for your neighborhood in this quarter (1Q-2022) has passed. Please check back at the end of March, 2022 for information on your next Build the Block Meeting in this sector. We look forward to seeing you and discussing what is happening in your neighborhood!\",\"\",\"\",\"\",\"\",\"https://www.facebook.com/NYPD28pct\",\"All meeting times, dates, and locations are subject to change. Please call your local precinct and speak to a Neighborhood Coordination Officer to verify correct meeting information.\"]\n",
      "63 [\"30\",\"A\",\"\",\"\",\"The Build the Block meeting for your neighborhood in this quarter (1Q-2022) has passed. Please check back at the end of March, 2022 for information on your next Build the Block Meeting in this sector. We look forward to seeing you and discussing what is happening in your neighborhood!\",\"\",\"\",\"\",\"\",\"https://www.facebook.com/NYPD30PCT\",\"All meeting times, dates, and locations are subject to change. Please call your local precinct and speak to a Neighborhood Coordination Officer to verify correct meeting information.\"]\n",
      "64 [\"30\",\"B\",\"\",\"\",\"The Build the Block meeting for your neighborhood in this quarter (1Q-2022) has passed. Please check back at the end of March, 2022 for information on your next Build the Block Meeting in this sector. We look forward to seeing you and discussing what is happening in your neighborhood!\",\"\",\"\",\"\",\"\",\"https://www.facebook.com/NYPD30PCT\",\"All meeting times, dates, and locations are subject to change. Please call your local precinct and speak to a Neighborhood Coordination Officer to verify correct meeting information.\"]\n",
      "65 [\"30\",\"C\",\"3/11/2022\",\"12:00 PM\",\"Prince Masonic Temple Hall\",\"454 West 155th Street\",\"New York\",\"NY\",\"10031\",\"https://www.facebook.com/NYPD30PCT\",\"All meeting times, dates, and locations are subject to change. Please call your local precinct and speak to a Neighborhood Coordination Officer to verify correct meeting information.\"]\n",
      "66 [\"32\",\"A\",\"3/26/2022\",\"12:00 PM\",\"Please join us for a Virtual Meeting by using the following information. We look forward to hearing from you.\",\"Zoom Meeting ID: 804 632 2095  Passcode: Cr=3kRqk6\",\"\",\"\",\"\",\"https://www.facebook.com/NYPD32PCT\",\"All meeting times, dates, and locations are subject to change. Please call your local precinct and speak to a Neighborhood Coordination Officer to verify correct meeting information.\"]\n",
      "67 [\"32\",\"B\",\"\",\"\",\"The Build the Block meeting for your neighborhood in this quarter (1Q-2022) has passed. Please check back at the end of March, 2022 for information on your next Build the Block Meeting in this sector. We look forward to seeing you and discussing what is happening in your neighborhood!\",\"\",\"\",\"\",\"\",\"https://www.facebook.com/NYPD32PCT\",\"All meeting times, dates, and locations are subject to change. Please call your local precinct and speak to a Neighborhood Coordination Officer to verify correct meeting information.\"]\n",
      "68 [\"32\",\"C\",\"\",\"\",\"The Build the Block meeting for your neighborhood in this quarter (1Q-2022) has passed. Please check back at the end of March, 2022 for information on your next Build the Block Meeting in this sector. We look forward to seeing you and discussing what is happening in your neighborhood!\",\"\",\"\",\"\",\"\",\"https://www.facebook.com/NYPD32PCT\",\"All meeting times, dates, and locations are subject to change. Please call your local precinct and speak to a Neighborhood Coordination Officer to verify correct meeting information.\"]\n",
      "69 [\"32\",\"D\",\"3/12/2022\",\"12:00 PM\",\"Please join us for a Virtual Meeting by using the following information. We look forward to hearing from you.\",\"Zoom Meeting ID: 804 632 2095  Passcode: Cr=3kRqk6\",\"\",\"\",\"\",\"https://www.facebook.com/NYPD32PCT\",\"All meeting times, dates, and locations are subject to change. Please call your local precinct and speak to a Neighborhood Coordination Officer to verify correct meeting information.\"]\n",
      "70 [\"33\",\"A\",\"3/25/2022\",\"6:00 PM\",\"Please check back later for information on how to join our Virtual Meeting. We look forward to hearing from you.\",\"\",\"\",\"\",\"\",\"https://www.facebook.com/NYPD33pct\",\"All meeting times, dates, and locations are subject to change. Please call your local precinct and speak to a Neighborhood Coordination Officer to verify correct meeting information.\"]\n",
      "71 [\"33\",\"B\",\"3/30/2022\",\"6:00 PM\",\"Please join us for a Virtual Meeting by using the following information. We look forward to hearing from you.\",\"\",\"\",\"\",\"\",\"https://www.facebook.com/NYPD33pct\",\"All meeting times, dates, and locations are subject to change. Please call your local precinct and speak to a Neighborhood Coordination Officer to verify correct meeting information.\"]\n",
      "72 [\"33\",\"C\",\"3/23/2022\",\"6:00 PM\",\"Oasis Church\",\"141 Audubon Avenue\",\"New York\",\"NY\",\"10032\",\"https://www.facebook.com/NYPD33pct\",\"All meeting times, dates, and locations are subject to change. Please call your local precinct and speak to a Neighborhood Coordination Officer to verify correct meeting information.\"]\n",
      "73 [\"33\",\"D\",\"\",\"\",\"The Build the Block meeting for your neighborhood in this quarter (1Q-2022) has passed. Please check back at the end of March, 2022 for information on your next Build the Block Meeting in this sector. We look forward to seeing you and discussing what is happening in your neighborhood!\",\"\",\"\",\"\",\"\",\"https://www.facebook.com/NYPD33pct\",\"All meeting times, dates, and locations are subject to change. Please call your local precinct and speak to a Neighborhood Coordination Officer to verify correct meeting information.\"]\n",
      "74 [\"34\",\"A\",\"3/9/2022\",\"6:00 PM\",\"St. Elizabeth School Auditorium\",\"612 West 187th Street\",\"New York\",\"NY\",\"10033\",\"https://www.facebook.com/NYPD34pct\",\"All meeting times, dates, and locations are subject to change. Please call your local precinct and speak to a Neighborhood Coordination Officer to verify correct meeting information.\"]\n",
      "75 [\"34\",\"B\",\"3/27/2022\",\"11:00 AM\",\"Bennett Park\",\"West 184th Street and Fort Washington Avenue\",\"New York\",\"NY\",\"10033\",\"https://www.facebook.com/NYPD34pct\",\"All meeting times, dates, and locations are subject to change. Please call your local precinct and speak to a Neighborhood Coordination Officer to verify correct meeting information.\"]\n",
      "76 [\"34\",\"C\",\"3/24/2022\",\"6:00 PM\",\"Dyckman Houses Senior Center\",\"3754 10th Avenue\",\"New York\",\"NY\",\"10034\",\"https://www.facebook.com/NYPD34pct\",\"All meeting times, dates, and locations are subject to change. Please call your local precinct and speak to a Neighborhood Coordination Officer to verify correct meeting information.\"]\n",
      "77 [\"34\",\"D\",\"3/14/2022\",\"6:00 PM\",\"Holy Trinity Church\",\"20 Cumming Street\",\"New York\",\"NY\",\"10034\",\"https://www.facebook.com/NYPD34pct\",\"All meeting times, dates, and locations are subject to change. Please call your local precinct and speak to a Neighborhood Coordination Officer to verify correct meeting information.\"]\n",
      "78 [\"40\",\"A\",\"3/10/2022\",\"6:00 PM\",\"Please join us for a Virtual Meeting by using the following information. We look forward to hearing from you.\",\"Zoom Meeting ID: 494 373 2976 Password: Lev120\",\"\",\"\",\"\",\"https://www.facebook.com/NYPD40PCT\",\"All meeting times, dates, and locations are subject to change. Please call your local precinct and speak to a Neighborhood Coordination Officer to verify correct meeting information.\"]\n",
      "79 [\"40\",\"B\",\"3/24/2022\",\"6:00 PM\",\"Please join us for a Virtual Meeting by using the following information. We look forward to hearing from you.\",\"Zoom Meeting ID: 494 373 2976 Password: Lev121\",\"\",\"\",\"\",\"https://www.facebook.com/NYPD40PCT\",\"All meeting times, dates, and locations are subject to change. Please call your local precinct and speak to a Neighborhood Coordination Officer to verify correct meeting information.\"]\n",
      "80 [\"40\",\"C\",\"3/31/2022\",\"6:00 PM\",\"Please join us for a Virtual Meeting by using the following information. We look forward to hearing from you.\",\"Zoom Meeting ID: 494 373 2976 Password: DR9yp8\",\"\",\"\",\"\",\"https://www.facebook.com/NYPD40PCT\",\"All meeting times, dates, and locations are subject to change. Please call your local precinct and speak to a Neighborhood Coordination Officer to verify correct meeting information.\"]\n",
      "81 [\"40\",\"D\",\"3/17/2022\",\"6:00 PM\",\"Please join us for a Virtual Meeting by using the following information. We look forward to hearing from you.\",\"Zoom Meeting ID: 494 373 2976 Password: Lev128\",\"\",\"\",\"\",\"https://www.facebook.com/NYPD40PCT\",\"All meeting times, dates, and locations are subject to change. Please call your local precinct and speak to a Neighborhood Coordination Officer to verify correct meeting information.\"]\n",
      "82 [\"41\",\"A\",\"3/16/2022\",\"5:30 PM\",\"Please join us for a Virtual Meeting by using the following information. We look forward to hearing from you.\",\"Zoom Meeting ID: 160 838 9609Passcode: 26%+39XU\",\"\",\"\",\"\",\"https://www.facebook.com/NYPD41pct\",\"All meeting times, dates, and locations are subject to change. Please call your local precinct and speak to a Neighborhood Coordination Officer to verify correct meeting information.\"]\n",
      "83 [\"41\",\"B\",\"3/24/2022\",\"5:00 PM\",\"Please join us for a Virtual Meeting by using the following information. We look forward to hearing from you.\",\"Zoom Meeting ID: 161 020 8408Passcode: 4a2?gqz^\",\"\",\"\",\"\",\"https://www.facebook.com/NYPD41pct\",\"All meeting times, dates, and locations are subject to change. Please call your local precinct and speak to a Neighborhood Coordination Officer to verify correct meeting information.\"]\n",
      "84 [\"41\",\"C\",\"3/10/2022\",\"5:30 PM\",\"Please join us for a Virtual Meeting by using the following information. We look forward to hearing from you.\",\"Zoom Meeting ID: 161 081 2781Passcode: cF46+Eaf\",\"\",\"\",\"\",\"https://www.facebook.com/NYPD41pct\",\"All meeting times, dates, and locations are subject to change. Please call your local precinct and speak to a Neighborhood Coordination Officer to verify correct meeting information.\"]\n",
      "85 [\"41\",\"D\",\"3/16/2022\",\"5:30 PM\",\"St. John Chrysostom\\'s Church\",\"978 East 167th Street\",\"New York\",\"NY\",\"10459\",\"https://www.facebook.com/NYPD33pct\",\"All meeting times, dates, and locations are subject to change. Please call your local precinct and speak to a Neighborhood Coordination Officer to verify correct meeting information.\"]\n"
     ]
    },
    {
     "ename": "JSONDecodeError",
     "evalue": "Invalid \\escape: line 1 column 53 (char 52)",
     "output_type": "error",
     "traceback": [
      "\u001b[1;31m---------------------------------------------------------------------------\u001b[0m",
      "\u001b[1;31mJSONDecodeError\u001b[0m                           Traceback (most recent call last)",
      "\u001b[1;32m<ipython-input-48-75e427ce96a2>\u001b[0m in \u001b[0;36m<module>\u001b[1;34m\u001b[0m\n\u001b[0;32m      3\u001b[0m \u001b[1;32mfor\u001b[0m \u001b[0mindex\u001b[0m\u001b[1;33m,\u001b[0m \u001b[0mitem\u001b[0m \u001b[1;32min\u001b[0m \u001b[0menumerate\u001b[0m\u001b[1;33m(\u001b[0m\u001b[0mmeeting_list\u001b[0m\u001b[1;33m)\u001b[0m\u001b[1;33m:\u001b[0m\u001b[1;33m\u001b[0m\u001b[1;33m\u001b[0m\u001b[0m\n\u001b[0;32m      4\u001b[0m     \u001b[0mprint\u001b[0m\u001b[1;33m(\u001b[0m \u001b[0mindex\u001b[0m\u001b[1;33m,\u001b[0m\u001b[0mitem\u001b[0m\u001b[1;33m)\u001b[0m\u001b[1;33m\u001b[0m\u001b[1;33m\u001b[0m\u001b[0m\n\u001b[1;32m----> 5\u001b[1;33m     \u001b[0mitems\u001b[0m \u001b[1;33m=\u001b[0m \u001b[0mjson\u001b[0m\u001b[1;33m.\u001b[0m\u001b[0mloads\u001b[0m\u001b[1;33m(\u001b[0m\u001b[0mmeeting_list\u001b[0m\u001b[1;33m[\u001b[0m\u001b[0mindex\u001b[0m\u001b[1;33m]\u001b[0m\u001b[1;33m)\u001b[0m\u001b[1;33m\u001b[0m\u001b[1;33m\u001b[0m\u001b[0m\n\u001b[0m\u001b[0;32m      6\u001b[0m     \u001b[0mparsed_list\u001b[0m\u001b[1;33m.\u001b[0m\u001b[0mappend\u001b[0m\u001b[1;33m(\u001b[0m\u001b[0mitems\u001b[0m\u001b[1;33m)\u001b[0m\u001b[1;33m\u001b[0m\u001b[1;33m\u001b[0m\u001b[0m\n",
      "\u001b[1;32m~\\miniconda3\\envs\\cb3\\lib\\json\\__init__.py\u001b[0m in \u001b[0;36mloads\u001b[1;34m(s, encoding, cls, object_hook, parse_float, parse_int, parse_constant, object_pairs_hook, **kw)\u001b[0m\n\u001b[0;32m    346\u001b[0m             \u001b[0mparse_int\u001b[0m \u001b[1;32mis\u001b[0m \u001b[1;32mNone\u001b[0m \u001b[1;32mand\u001b[0m \u001b[0mparse_float\u001b[0m \u001b[1;32mis\u001b[0m \u001b[1;32mNone\u001b[0m \u001b[1;32mand\u001b[0m\u001b[1;33m\u001b[0m\u001b[1;33m\u001b[0m\u001b[0m\n\u001b[0;32m    347\u001b[0m             parse_constant is None and object_pairs_hook is None and not kw):\n\u001b[1;32m--> 348\u001b[1;33m         \u001b[1;32mreturn\u001b[0m \u001b[0m_default_decoder\u001b[0m\u001b[1;33m.\u001b[0m\u001b[0mdecode\u001b[0m\u001b[1;33m(\u001b[0m\u001b[0ms\u001b[0m\u001b[1;33m)\u001b[0m\u001b[1;33m\u001b[0m\u001b[1;33m\u001b[0m\u001b[0m\n\u001b[0m\u001b[0;32m    349\u001b[0m     \u001b[1;32mif\u001b[0m \u001b[0mcls\u001b[0m \u001b[1;32mis\u001b[0m \u001b[1;32mNone\u001b[0m\u001b[1;33m:\u001b[0m\u001b[1;33m\u001b[0m\u001b[1;33m\u001b[0m\u001b[0m\n\u001b[0;32m    350\u001b[0m         \u001b[0mcls\u001b[0m \u001b[1;33m=\u001b[0m \u001b[0mJSONDecoder\u001b[0m\u001b[1;33m\u001b[0m\u001b[1;33m\u001b[0m\u001b[0m\n",
      "\u001b[1;32m~\\miniconda3\\envs\\cb3\\lib\\json\\decoder.py\u001b[0m in \u001b[0;36mdecode\u001b[1;34m(self, s, _w)\u001b[0m\n\u001b[0;32m    335\u001b[0m \u001b[1;33m\u001b[0m\u001b[0m\n\u001b[0;32m    336\u001b[0m         \"\"\"\n\u001b[1;32m--> 337\u001b[1;33m         \u001b[0mobj\u001b[0m\u001b[1;33m,\u001b[0m \u001b[0mend\u001b[0m \u001b[1;33m=\u001b[0m \u001b[0mself\u001b[0m\u001b[1;33m.\u001b[0m\u001b[0mraw_decode\u001b[0m\u001b[1;33m(\u001b[0m\u001b[0ms\u001b[0m\u001b[1;33m,\u001b[0m \u001b[0midx\u001b[0m\u001b[1;33m=\u001b[0m\u001b[0m_w\u001b[0m\u001b[1;33m(\u001b[0m\u001b[0ms\u001b[0m\u001b[1;33m,\u001b[0m \u001b[1;36m0\u001b[0m\u001b[1;33m)\u001b[0m\u001b[1;33m.\u001b[0m\u001b[0mend\u001b[0m\u001b[1;33m(\u001b[0m\u001b[1;33m)\u001b[0m\u001b[1;33m)\u001b[0m\u001b[1;33m\u001b[0m\u001b[1;33m\u001b[0m\u001b[0m\n\u001b[0m\u001b[0;32m    338\u001b[0m         \u001b[0mend\u001b[0m \u001b[1;33m=\u001b[0m \u001b[0m_w\u001b[0m\u001b[1;33m(\u001b[0m\u001b[0ms\u001b[0m\u001b[1;33m,\u001b[0m \u001b[0mend\u001b[0m\u001b[1;33m)\u001b[0m\u001b[1;33m.\u001b[0m\u001b[0mend\u001b[0m\u001b[1;33m(\u001b[0m\u001b[1;33m)\u001b[0m\u001b[1;33m\u001b[0m\u001b[1;33m\u001b[0m\u001b[0m\n\u001b[0;32m    339\u001b[0m         \u001b[1;32mif\u001b[0m \u001b[0mend\u001b[0m \u001b[1;33m!=\u001b[0m \u001b[0mlen\u001b[0m\u001b[1;33m(\u001b[0m\u001b[0ms\u001b[0m\u001b[1;33m)\u001b[0m\u001b[1;33m:\u001b[0m\u001b[1;33m\u001b[0m\u001b[1;33m\u001b[0m\u001b[0m\n",
      "\u001b[1;32m~\\miniconda3\\envs\\cb3\\lib\\json\\decoder.py\u001b[0m in \u001b[0;36mraw_decode\u001b[1;34m(self, s, idx)\u001b[0m\n\u001b[0;32m    351\u001b[0m         \"\"\"\n\u001b[0;32m    352\u001b[0m         \u001b[1;32mtry\u001b[0m\u001b[1;33m:\u001b[0m\u001b[1;33m\u001b[0m\u001b[1;33m\u001b[0m\u001b[0m\n\u001b[1;32m--> 353\u001b[1;33m             \u001b[0mobj\u001b[0m\u001b[1;33m,\u001b[0m \u001b[0mend\u001b[0m \u001b[1;33m=\u001b[0m \u001b[0mself\u001b[0m\u001b[1;33m.\u001b[0m\u001b[0mscan_once\u001b[0m\u001b[1;33m(\u001b[0m\u001b[0ms\u001b[0m\u001b[1;33m,\u001b[0m \u001b[0midx\u001b[0m\u001b[1;33m)\u001b[0m\u001b[1;33m\u001b[0m\u001b[1;33m\u001b[0m\u001b[0m\n\u001b[0m\u001b[0;32m    354\u001b[0m         \u001b[1;32mexcept\u001b[0m \u001b[0mStopIteration\u001b[0m \u001b[1;32mas\u001b[0m \u001b[0merr\u001b[0m\u001b[1;33m:\u001b[0m\u001b[1;33m\u001b[0m\u001b[1;33m\u001b[0m\u001b[0m\n\u001b[0;32m    355\u001b[0m             \u001b[1;32mraise\u001b[0m \u001b[0mJSONDecodeError\u001b[0m\u001b[1;33m(\u001b[0m\u001b[1;34m\"Expecting value\"\u001b[0m\u001b[1;33m,\u001b[0m \u001b[0ms\u001b[0m\u001b[1;33m,\u001b[0m \u001b[0merr\u001b[0m\u001b[1;33m.\u001b[0m\u001b[0mvalue\u001b[0m\u001b[1;33m)\u001b[0m \u001b[1;32mfrom\u001b[0m \u001b[1;32mNone\u001b[0m\u001b[1;33m\u001b[0m\u001b[1;33m\u001b[0m\u001b[0m\n",
      "\u001b[1;31mJSONDecodeError\u001b[0m: Invalid \\escape: line 1 column 53 (char 52)"
     ]
    }
   ],
   "source": [
    "# Convert each index in meeting_list from a string to a Python list. \n",
    "parsed_list = []\n",
    "for index, item in enumerate(meeting_list):\n",
    "    print( index,item)\n",
    "    items = json.loads(meeting_list[index])\n",
    "    parsed_list.append(items)"
   ]
  },
  {
   "cell_type": "code",
   "execution_count": 49,
   "id": "051d122c",
   "metadata": {},
   "outputs": [
    {
     "data": {
      "text/plain": [
       "['1',\n",
       " 'A',\n",
       " '',\n",
       " '',\n",
       " 'The Build the Block meeting for your neighborhood in this quarter (1Q-2022) has passed. Please check back at the end of March, 2022 for information on your next Build the Block Meeting in this sector. We look forward to seeing you and discussing what is happening in your neighborhood!',\n",
       " '',\n",
       " '',\n",
       " '',\n",
       " '',\n",
       " 'https://www.facebook.com/NYPD1PCT',\n",
       " 'All meeting times, dates, and locations are subject to change. Please call your local precinct and speak to a Neighborhood Coordination Officer to verify correct meeting information.']"
      ]
     },
     "execution_count": 49,
     "metadata": {},
     "output_type": "execute_result"
    }
   ],
   "source": [
    "parsed_list[0]"
   ]
  },
  {
   "cell_type": "code",
   "execution_count": 73,
   "id": "7d295922",
   "metadata": {},
   "outputs": [],
   "source": [
    "# Create dataframe from parsed list\n",
    "columns = ['precinct', 'sector', 'date', 'time', 'meeting_info', 'location_info', 'no_info', 'no_info2', 'no_info_3', 'facebook', 'meeting_info2']\n",
    "df = pd.DataFrame(parsed_list, columns = columns)\n"
   ]
  },
  {
   "cell_type": "code",
   "execution_count": 75,
   "id": "a91a3582",
   "metadata": {},
   "outputs": [],
   "source": [
    "# Filter to CB3 precincts\n",
    "df = df[(df['precinct'] == '5') | (df['precinct'] == '7') | (df['precinct'] == '9')]"
   ]
  },
  {
   "cell_type": "code",
   "execution_count": 81,
   "id": "594c9db9",
   "metadata": {},
   "outputs": [
    {
     "ename": "NameError",
     "evalue": "name 'os' is not defined",
     "output_type": "error",
     "traceback": [
      "\u001b[1;31m---------------------------------------------------------------------------\u001b[0m",
      "\u001b[1;31mNameError\u001b[0m                                 Traceback (most recent call last)",
      "\u001b[1;32m<ipython-input-81-36a013cc56a2>\u001b[0m in \u001b[0;36m<module>\u001b[1;34m\u001b[0m\n\u001b[0;32m      1\u001b[0m \u001b[0mfilepath\u001b[0m \u001b[1;33m=\u001b[0m \u001b[1;34mr\"C:\\Users\\MN03\\Desktop\\ADM Files\\NYPD\"\u001b[0m\u001b[1;33m\u001b[0m\u001b[1;33m\u001b[0m\u001b[0m\n\u001b[1;32m----> 2\u001b[1;33m \u001b[0mbtb_text\u001b[0m \u001b[1;33m=\u001b[0m \u001b[0mos\u001b[0m\u001b[1;33m.\u001b[0m\u001b[0mpath\u001b[0m\u001b[1;33m.\u001b[0m\u001b[0mjoin\u001b[0m\u001b[1;33m(\u001b[0m\u001b[0mfilepath\u001b[0m\u001b[1;33m,\u001b[0m \u001b[1;34m'meeting_info.txt'\u001b[0m\u001b[1;33m)\u001b[0m\u001b[1;33m\u001b[0m\u001b[1;33m\u001b[0m\u001b[0m\n\u001b[0m",
      "\u001b[1;31mNameError\u001b[0m: name 'os' is not defined"
     ]
    }
   ],
   "source": [
    "filepath = r\"C:\\Users\\MN03\\Desktop\\ADM Files\\NYPD\"\n",
    "btb_text = os.path.join(filepath, 'meeting_info.txt')"
   ]
  },
  {
   "cell_type": "code",
   "execution_count": 77,
   "id": "f3d2783b",
   "metadata": {},
   "outputs": [
    {
     "name": "stdout",
     "output_type": "stream",
     "text": [
      "\n",
      "=======================\n",
      "Meeting info for Precinct: 5 Sector: A\n",
      "Meeting Date: \n",
      "Meeting Time: \n",
      "Meeting Location: The Build the Block meeting for your neighborhood in this quarter (1Q-2022) has passed. Please check back at the end of March, 2022 for information on your next Build the Block Meeting in this sector. We look forward to seeing you and discussing what is happening in your neighborhood!\n",
      "\n",
      "\n",
      "=======================\n",
      "Meeting info for Precinct: 5 Sector: B\n",
      "Meeting Date: \n",
      "Meeting Time: \n",
      "Meeting Location: The Build the Block meeting for your neighborhood in this quarter (1Q-2022) has passed. Please check back at the end of March, 2022 for information on your next Build the Block Meeting in this sector. We look forward to seeing you and discussing what is happening in your neighborhood!\n",
      "\n",
      "\n",
      "=======================\n",
      "Meeting info for Precinct: 5 Sector: C\n",
      "Meeting Date: 3/9/2022\n",
      "Meeting Time: 6:30 PM\n",
      "Meeting Location: Please join us for a Virtual Meeting by using the following information. We look forward to hearing from you.\n",
      "Zoom Meeting ID: 160 228 4033  Passcode: NCOC-005\n",
      "\n",
      "=======================\n",
      "Meeting info for Precinct: 7 Sector: A\n",
      "Meeting Date: \n",
      "Meeting Time: \n",
      "Meeting Location: The Build the Block meeting for your neighborhood in this quarter (1Q-2022) has passed. Please check back at the end of March, 2022 for information on your next Build the Block Meeting in this sector. We look forward to seeing you and discussing what is happening in your neighborhood!\n",
      "\n",
      "\n",
      "=======================\n",
      "Meeting info for Precinct: 7 Sector: B\n",
      "Meeting Date: \n",
      "Meeting Time: \n",
      "Meeting Location: The Build the Block meeting for your neighborhood in this quarter (1Q-2022) has passed. Please check back at the end of March, 2022 for information on your next Build the Block Meeting in this sector. We look forward to seeing you and discussing what is happening in your neighborhood!\n",
      "\n",
      "\n",
      "=======================\n",
      "Meeting info for Precinct: 7 Sector: C\n",
      "Meeting Date: 3/26/2022\n",
      "Meeting Time: 1:00 PM\n",
      "Meeting Location: The Rivington Hotel\n",
      "107 Rivington Street\n",
      "\n",
      "=======================\n",
      "Meeting info for Precinct: 9 Sector: A\n",
      "Meeting Date: 3/10/2022\n",
      "Meeting Time: 5:30 PM\n",
      "Meeting Location: Boys & Girls Club\n",
      "888 East 6th Street\n",
      "\n",
      "=======================\n",
      "Meeting info for Precinct: 9 Sector: B\n",
      "Meeting Date: 3/16/2022\n",
      "Meeting Time: 6:00 PM\n",
      "Meeting Location: Campos Plaza Community Center\n",
      "635 East 12th Street\n",
      "\n",
      "=======================\n",
      "Meeting info for Precinct: 9 Sector: C\n",
      "Meeting Date: 3/28/2022\n",
      "Meeting Time: 4:00 PM\n",
      "Meeting Location: Community Board 3 Office\n",
      "59 East 4th Street\n",
      "\n",
      "=======================\n",
      "Meeting info for Precinct: 9 Sector: D\n",
      "Meeting Date: 3/23/2022\n",
      "Meeting Time: 6:00 PM\n",
      "Meeting Location: Third Street Music School\n",
      "235 East 11th Street\n"
     ]
    }
   ],
   "source": [
    "for index, row in df.iterrows():  \n",
    "    print(\"\\n=======================\\n\" + \"Meeting info for Precinct: \" + row.precinct + \" Sector: \" + row.sector +\n",
    "            \"\\nMeeting Date: \" + row.date +\n",
    "            \"\\nMeeting Time: \" + row.time +\n",
    "            \"\\nMeeting Location: \" + row.meeting_info + \n",
    "            \"\\n\" + row.location_info) "
   ]
  },
  {
   "cell_type": "code",
   "execution_count": 80,
   "id": "b7854b8d",
   "metadata": {},
   "outputs": [
    {
     "ename": "NameError",
     "evalue": "name 'btb_text' is not defined",
     "output_type": "error",
     "traceback": [
      "\u001b[1;31m---------------------------------------------------------------------------\u001b[0m",
      "\u001b[1;31mNameError\u001b[0m                                 Traceback (most recent call last)",
      "\u001b[1;32m<ipython-input-80-6ef979d3de2a>\u001b[0m in \u001b[0;36m<module>\u001b[1;34m\u001b[0m\n\u001b[0;32m      1\u001b[0m \u001b[1;31m# Write Meeting info to file\u001b[0m\u001b[1;33m\u001b[0m\u001b[1;33m\u001b[0m\u001b[1;33m\u001b[0m\u001b[0m\n\u001b[0;32m      2\u001b[0m \u001b[1;32mfor\u001b[0m \u001b[0mindex\u001b[0m\u001b[1;33m,\u001b[0m \u001b[0mrow\u001b[0m \u001b[1;32min\u001b[0m \u001b[0mdf\u001b[0m\u001b[1;33m.\u001b[0m\u001b[0miterrows\u001b[0m\u001b[1;33m(\u001b[0m\u001b[1;33m)\u001b[0m\u001b[1;33m:\u001b[0m\u001b[1;33m\u001b[0m\u001b[1;33m\u001b[0m\u001b[0m\n\u001b[1;32m----> 3\u001b[1;33m     \u001b[1;32mwith\u001b[0m \u001b[0mopen\u001b[0m\u001b[1;33m(\u001b[0m\u001b[0mbtb_text\u001b[0m\u001b[1;33m,\u001b[0m \u001b[1;34m\"a\"\u001b[0m\u001b[1;33m)\u001b[0m \u001b[1;32mas\u001b[0m \u001b[0mfile\u001b[0m\u001b[1;33m:\u001b[0m\u001b[1;33m\u001b[0m\u001b[1;33m\u001b[0m\u001b[0m\n\u001b[0m\u001b[0;32m      4\u001b[0m         file.write(\n\u001b[0;32m      5\u001b[0m             \u001b[1;34m\"\\n=======================\\n\"\u001b[0m \u001b[1;33m+\u001b[0m \u001b[1;34m\"Meeting info for Precinct: \"\u001b[0m \u001b[1;33m+\u001b[0m \u001b[0mrow\u001b[0m\u001b[1;33m.\u001b[0m\u001b[0mprecinct\u001b[0m \u001b[1;33m+\u001b[0m \u001b[1;34m\" Sector: \"\u001b[0m \u001b[1;33m+\u001b[0m \u001b[0mrow\u001b[0m\u001b[1;33m.\u001b[0m\u001b[0msector\u001b[0m \u001b[1;33m+\u001b[0m\u001b[1;33m\u001b[0m\u001b[1;33m\u001b[0m\u001b[0m\n",
      "\u001b[1;31mNameError\u001b[0m: name 'btb_text' is not defined"
     ]
    }
   ],
   "source": [
    "# Write Meeting info to file\n",
    "for index, row in df.iterrows():\n",
    "    with open(btb_text, \"a\") as file:\n",
    "        file.write(\n",
    "            \"\\n=======================\\n\" + \"Meeting info for Precinct: \" + row.precinct + \" Sector: \" + row.sector +\n",
    "            \"\\nMeeting Date: \" + row.date +\n",
    "            \"\\nMeeting Time: \" + row.time +\n",
    "            \"\\nMeeting Location: \" + row.meeting_info + \n",
    "            \"\\n\" + row.location_info) \n",
    "        file.close()\n",
    "        \n"
   ]
  },
  {
   "cell_type": "code",
   "execution_count": null,
   "id": "3897c64f",
   "metadata": {},
   "outputs": [],
   "source": []
  }
 ],
 "metadata": {
  "kernelspec": {
   "display_name": "Python 3",
   "language": "python",
   "name": "python3"
  },
  "language_info": {
   "codemirror_mode": {
    "name": "ipython",
    "version": 3
   },
   "file_extension": ".py",
   "mimetype": "text/x-python",
   "name": "python",
   "nbconvert_exporter": "python",
   "pygments_lexer": "ipython3",
   "version": "3.7.11"
  }
 },
 "nbformat": 4,
 "nbformat_minor": 5
}
