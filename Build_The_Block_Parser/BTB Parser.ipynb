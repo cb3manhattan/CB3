{
 "cells": [
  {
   "cell_type": "code",
   "execution_count": null,
   "id": "935d8efc",
   "metadata": {},
   "outputs": [],
   "source": [
    "# This script scrapes Build the Block meeting info off of city website \n",
    "# TODO\n"
   ]
  },
  {
   "cell_type": "code",
   "execution_count": null,
   "id": "5d30f75d",
   "metadata": {},
   "outputs": [],
   "source": [
    "import os\n",
    "import requests\n",
    "import pandas as pd\n",
    "import json\n",
    "import re"
   ]
  },
  {
   "cell_type": "code",
   "execution_count": null,
   "id": "7f87450c",
   "metadata": {},
   "outputs": [],
   "source": [
    "#These are all of the main variables used to build a call url to the the census api website\n",
    "\n",
    "HOST = \"https://www1.nyc.gov/assets/nypd/js/\"\n",
    "MEETINGS_JS = \"meetings.js\"\n",
    "base_url = \"/\".join([HOST, MEETINGS_JS])"
   ]
  },
  {
   "cell_type": "code",
   "execution_count": null,
   "id": "8f345355",
   "metadata": {},
   "outputs": [],
   "source": [
    "# Get request, and create variable that holds request content. \n",
    "Meeting_Request = requests.get(base_url)\n",
    "Meetings = Meeting_Request.content"
   ]
  },
  {
   "cell_type": "code",
   "execution_count": null,
   "id": "9d7584b8",
   "metadata": {},
   "outputs": [],
   "source": [
    "# Create string from request content\n",
    "Meetings = str(Meetings)\n",
    "type(Meetings)"
   ]
  },
  {
   "cell_type": "code",
   "execution_count": null,
   "id": "09e58f50",
   "metadata": {},
   "outputs": [],
   "source": [
    "# First line in requested data (meetings.js) from NYPD site is the creation of an empty array. \n",
    "# This removes the first line of code and the line break characters\n",
    "meeting_start = Meetings.find('\\\\r\\\\n')\n",
    "meeting_start = meeting_start + 4\n",
    "Meetings = Meetings[meeting_start:]"
   ]
  },
  {
   "cell_type": "code",
   "execution_count": null,
   "id": "1c3cf95a",
   "metadata": {},
   "outputs": [],
   "source": [
    "# Gets all expressions meeting variable assignment pattern. \n",
    "regular_expression_results = re.findall(\"meetings\\[[0-9]+\\] = \", Meetings)\n",
    "print(len(regular_expression_results))"
   ]
  },
  {
   "cell_type": "code",
   "execution_count": null,
   "id": "97bb4ad8",
   "metadata": {},
   "outputs": [],
   "source": [
    "# Delete substrings that match regex pattern in previous steps\n",
    "# re.sub(pattern, repl, string, count=0, flags=0)\n",
    "meetings_revised = re.sub(\"meetings\\[[0-9]+\\] = \",'',Meetings)\n",
    "print(len(meetings_revised))"
   ]
  },
  {
   "cell_type": "code",
   "execution_count": null,
   "id": "082a8a9d",
   "metadata": {},
   "outputs": [],
   "source": [
    "# Parse meeting string into list. \n",
    "meeting_list = meetings_revised.split(r';\\r\\n')\n",
    "print(len(meeting_list))"
   ]
  },
  {
   "cell_type": "code",
   "execution_count": null,
   "id": "21da5fbb",
   "metadata": {},
   "outputs": [],
   "source": [
    "# Convert each index in meeting_list from a string to a Python list. \n",
    "parsed_list = []\n",
    "for index, item in enumerate(meeting_list):\n",
    "    print( index,item)\n",
    "    items = json.loads(meeting_list[index])\n",
    "    parsed_list.append(items)"
   ]
  },
  {
   "cell_type": "code",
   "execution_count": null,
   "id": "14e8aa82",
   "metadata": {},
   "outputs": [],
   "source": [
    "parsed_list[0]"
   ]
  },
  {
   "cell_type": "code",
   "execution_count": null,
   "id": "704cca44",
   "metadata": {},
   "outputs": [],
   "source": [
    "# Create dataframe from parsed list\n",
    "columns = ['precinct', 'sector', 'date', 'time', 'meeting_info', 'location_info', 'no_info', 'no_info2', 'no_info_3', 'facebook', 'meeting_info2']\n",
    "df = pd.DataFrame(parsed_list, columns = columns)\n"
   ]
  },
  {
   "cell_type": "code",
   "execution_count": null,
   "id": "2e9a8d4e",
   "metadata": {},
   "outputs": [],
   "source": [
    "# Filter to CB3 precincts\n",
    "df = df[(df['precinct'] == '5') | (df['precinct'] == '7') | (df['precinct'] == '9')]"
   ]
  },
  {
   "cell_type": "code",
   "execution_count": null,
   "id": "61124d50",
   "metadata": {},
   "outputs": [],
   "source": [
    "filepath = r\"C:\\Users\\MN03\\Desktop\\ADM Files\\NYPD\"\n",
    "btb_text = os.path.join(filepath, 'meeting_info.txt')"
   ]
  },
  {
   "cell_type": "code",
   "execution_count": null,
   "id": "b7854b8d",
   "metadata": {},
   "outputs": [],
   "source": [
    "# Write Meeting info to file\n",
    "for index, row in df.iterrows():\n",
    "    with open(btb_text, \"a\") as file:\n",
    "        file.write(\n",
    "            \"\\n=======================\\n\" + \"Meeting info for Precinct: \" + row.precinct + \" Sector: \" + row.sector +\n",
    "            \"\\nMeeting Date: \" + row.date +\n",
    "            \"\\nMeeting Time: \" + row.time +\n",
    "            \"\\nMeeting Location: \" + row.meeting_info + \n",
    "            \"\\n\" + row.location_info) \n",
    "        file.close()\n",
    "        \n"
   ]
  },
  {
   "cell_type": "code",
   "execution_count": null,
   "id": "9b0b39dd",
   "metadata": {},
   "outputs": [],
   "source": [
    "for index, row in df.iterrows():  \n",
    "    print(\"\\n=======================\\n\" + \"Meeting info for Precinct: \" + row.precinct + \" Sector: \" + row.sector +\n",
    "            \"\\nMeeting Date: \" + row.date +\n",
    "            \"\\nMeeting Time: \" + row.time +\n",
    "            \"\\nMeeting Location: \" + row.meeting_info + \n",
    "            \"\\n\" + row.location_info) "
   ]
  },
  {
   "cell_type": "code",
   "execution_count": null,
   "id": "b31c6d8c",
   "metadata": {},
   "outputs": [],
   "source": []
  }
 ],
 "metadata": {
  "kernelspec": {
   "display_name": "Python 3",
   "language": "python",
   "name": "python3"
  },
  "language_info": {
   "codemirror_mode": {
    "name": "ipython",
    "version": 3
   },
   "file_extension": ".py",
   "mimetype": "text/x-python",
   "name": "python",
   "nbconvert_exporter": "python",
   "pygments_lexer": "ipython3",
   "version": "3.7.11"
  }
 },
 "nbformat": 4,
 "nbformat_minor": 5
}
