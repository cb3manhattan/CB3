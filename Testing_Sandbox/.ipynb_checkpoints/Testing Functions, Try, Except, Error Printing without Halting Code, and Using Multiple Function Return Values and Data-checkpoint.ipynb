{
 "cells": [
  {
   "cell_type": "markdown",
   "metadata": {},
   "source": [
    "\"\"\"\n",
    "## BELOW: TESTING TRY and EXCEPT. \n",
    "####    I want to learn how to use this feature in my code\n",
    "####    I want to print the error but not halt the code. \n",
    "####    This will be designed to alert if directory already exists\n",
    "    \n",
    "####    OTHER ITEMS to learn: Returning multiple items from function. \n",
    "\"\"\""
   ]
  },
  {
   "cell_type": "code",
   "execution_count": 1,
   "metadata": {},
   "outputs": [],
   "source": [
    "import pandas as pd\n",
    "import datetime as dt\n",
    "from datetime import datetime\n",
    "import openpyxl\n",
    "import os\n",
    "import csv"
   ]
  },
  {
   "cell_type": "code",
   "execution_count": 2,
   "metadata": {},
   "outputs": [],
   "source": [
    "agenda_pull = r\"C:\\Users\\MN03\\Desktop\\Calvin Docs\\SLA\\Automation Work\\Example_Agenda_Pull.txt\""
   ]
  },
  {
   "cell_type": "code",
   "execution_count": 3,
   "metadata": {},
   "outputs": [],
   "source": [
    "def test_try_except(agenda_pull):\n",
    "    \n",
    "    # Open the text file\n",
    "    #r+ = read/write access mode\n",
    "    agenda = open(agenda_pull, 'r+')\n",
    "    \n",
    "    #Readlines creates a list, where each index contains a line of text, which in this case is a single establishment. \n",
    "    contents = agenda.readlines()\n",
    "    \n",
    "    # Close the text file\n",
    "    agenda.close()\n",
    "    \n",
    "    # This creates a dataframe where each row is a line from the agenda pull\n",
    "    agenda_df = pd.DataFrame(contents, columns=['line'])\n",
    "    \n",
    "    \n",
    "    desktop = os.path.expanduser(\"~/Desktop\")\n",
    "    top_folder = 'Test_try_except'\n",
    "    filepath = os.path.join(desktop, top_folder)\n",
    "    try:\n",
    "        os.makedirs(filepath)\n",
    "    except Exception as e: \n",
    "        print(e)\n",
    "        pass\n",
    "    \n",
    "    return 0, 'a function can return numerous values and data', ['hello', 'why','a function can return numerous values and data'], agenda_df; "
   ]
  },
  {
   "cell_type": "code",
   "execution_count": 4,
   "metadata": {},
   "outputs": [],
   "source": [
    "mac_agenda = r'/Users/calvindechicago/Desktop/SLA_test.txt'"
   ]
  },
  {
   "cell_type": "code",
   "execution_count": 4,
   "metadata": {
    "lines_to_next_cell": 2
   },
   "outputs": [
    {
     "ename": "NameError",
     "evalue": "name 'mac_agenda' is not defined",
     "output_type": "error",
     "traceback": [
      "\u001b[0;31m---------------------------------------------------------------------------\u001b[0m",
      "\u001b[0;31mNameError\u001b[0m                                 Traceback (most recent call last)",
      "\u001b[0;32m<ipython-input-4-5de108cc07c2>\u001b[0m in \u001b[0;36m<module>\u001b[0;34m\u001b[0m\n\u001b[0;32m----> 1\u001b[0;31m \u001b[0mtest_try_except\u001b[0m\u001b[0;34m(\u001b[0m\u001b[0mmac_agenda\u001b[0m\u001b[0;34m)\u001b[0m\u001b[0;34m[\u001b[0m\u001b[0;36m3\u001b[0m\u001b[0;34m]\u001b[0m\u001b[0;34m\u001b[0m\u001b[0;34m\u001b[0m\u001b[0m\n\u001b[0m",
      "\u001b[0;31mNameError\u001b[0m: name 'mac_agenda' is not defined"
     ]
    }
   ],
   "source": [
    "test_try_except(mac_agenda)[3]"
   ]
  },
  {
   "cell_type": "code",
   "execution_count": null,
   "metadata": {},
   "outputs": [],
   "source": [
    "test_try_except(mac_agenda)[2][2]"
   ]
  }
 ],
 "metadata": {
  "jupytext": {
   "formats": "ipynb,py:light"
  },
  "kernelspec": {
   "display_name": "Python 3",
   "language": "python",
   "name": "python3"
  },
  "language_info": {
   "codemirror_mode": {
    "name": "ipython",
    "version": 3
   },
   "file_extension": ".py",
   "mimetype": "text/x-python",
   "name": "python",
   "nbconvert_exporter": "python",
   "pygments_lexer": "ipython3",
   "version": "3.7.6"
  }
 },
 "nbformat": 4,
 "nbformat_minor": 4
}
