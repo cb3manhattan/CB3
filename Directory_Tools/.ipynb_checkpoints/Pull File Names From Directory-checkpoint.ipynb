{
 "cells": [
  {
   "cell_type": "code",
   "execution_count": 147,
   "id": "458a07cd",
   "metadata": {},
   "outputs": [
    {
     "data": {
      "text/plain": [
       "'\\n-Get file names from directory\\n\\n-The end goal is to have a list of file names to be displayed as links on a website, \\nalong with a corresponding list of hyperlinks to the files on the backend\\n\\nTO DO:\\n- Test the final output string\\n- Would any other output strings be helpful?\\n\\nInstructions:\\nProvide the backend path, and the directory where the upload files are. \\n\\n\\n'"
      ]
     },
     "execution_count": 147,
     "metadata": {},
     "output_type": "execute_result"
    }
   ],
   "source": [
    "\"\"\"\n",
    "-Get file names from directory\n",
    "\n",
    "-The end goal is to have a list of file names to be displayed as links on a website, \n",
    "along with a corresponding list of hyperlinks to the files on the backend\n",
    "\n",
    "TO DO:\n",
    "- Test the final output string\n",
    "- Would any other output strings be helpful?\n",
    "- After testing, consider methodizing script.\n",
    "\n",
    "Instructions:\n",
    "1) In the code below, provide the backend path, and the directory path where the files to be uploaded are contained.\n",
    "2) Paste the output strings in the HTML window in teamsite.\n",
    "\n",
    "\"\"\""
   ]
  },
  {
   "cell_type": "code",
   "execution_count": 126,
   "id": "1e9f7b31",
   "metadata": {},
   "outputs": [],
   "source": [
    "import pandas as pd\n",
    "import datetime as dt\n",
    "from datetime import datetime\n",
    "import openpyxl\n",
    "import os\n",
    "import csv"
   ]
  },
  {
   "cell_type": "code",
   "execution_count": 127,
   "id": "ee24c937",
   "metadata": {},
   "outputs": [
    {
     "name": "stdout",
     "output_type": "stream",
     "text": [
      "C:\\Users\\MN03\\Desktop\\Website Uploads\\dir_files_export.txt  is a valid filepath:  True\n",
      "Website backend director:  <a href=\"/downloads/resources/\n"
     ]
    }
   ],
   "source": [
    "\n",
    "# FILE PATHS  \n",
    "\n",
    "# THIS IS THE DIRECTORY WHERE FILE NAMES WILL BE PULLED FROM \n",
    "files_folder = r\"Y:\\public\\fy 23 budget consult answers\"\n",
    "\n",
    "# TEXT FILE EXPORT \n",
    "dir_files_export = r\"C:\\Users\\MN03\\Desktop\\Website Uploads\\dir_files_export.txt\"\n",
    "print( dir_files_export, ' is a valid filepath: ', os.path.isdir(files_folder))\n",
    "\n",
    "# Website backend base filepath.\n",
    "\n",
    "backend_path = '<a href=\"/downloads/resources/'\n",
    "print('Website backend director: ', backend_path)"
   ]
  },
  {
   "cell_type": "code",
   "execution_count": 128,
   "id": "aeaf8954",
   "metadata": {},
   "outputs": [
    {
     "name": "stdout",
     "output_type": "stream",
     "text": [
      "['administration_for_childrens_services_responses.pdf', 'community_referral_prevention_services_family_overview_june_2021.pdf', 'department_for_the_aging_responses.pdf', 'department_of_buildings_responses.pdf', 'department_of_housing_preservation_and_development_responses.pdf', 'economic_development_corporation_responses.pdf', 'landmarks_preservation_commission_responses.pdf', 'nycha_blueprint_for_change_brief.pdf', 'small_business_services_responses.pdf', 'Thumbs.db']\n"
     ]
    }
   ],
   "source": [
    "# Create list of all filenames in directory, including file extensions\n",
    "from os import listdir\n",
    "from os.path import isfile, join\n",
    "onlyfiles = [f for f in listdir(files_folder) if isfile(join(files_folder, f))]\n",
    "print(onlyfiles)"
   ]
  },
  {
   "cell_type": "code",
   "execution_count": 129,
   "id": "4f0bcfb4",
   "metadata": {},
   "outputs": [],
   "source": [
    "# Make Dataframe of file list\n",
    "dir_files = pd.DataFrame(onlyfiles, columns=['files'])"
   ]
  },
  {
   "cell_type": "code",
   "execution_count": 130,
   "id": "c16ff211",
   "metadata": {},
   "outputs": [
    {
     "name": "stdout",
     "output_type": "stream",
     "text": [
      "                                               files\n",
      "0  administration_for_childrens_services_response...\n",
      "1  community_referral_prevention_services_family_...\n",
      "2             department_for_the_aging_responses.pdf\n",
      "3              department_of_buildings_responses.pdf\n",
      "4  department_of_housing_preservation_and_develop...\n",
      "5     economic_development_corporation_responses.pdf\n",
      "6    landmarks_preservation_commission_responses.pdf\n",
      "7               nycha_blueprint_for_change_brief.pdf\n",
      "8              small_business_services_responses.pdf\n",
      "9                                          Thumbs.db\n"
     ]
    },
    {
     "data": {
      "text/plain": [
       "pandas.core.frame.DataFrame"
      ]
     },
     "execution_count": 130,
     "metadata": {},
     "output_type": "execute_result"
    }
   ],
   "source": [
    "print(dir_files)\n",
    "type(dir_files)"
   ]
  },
  {
   "cell_type": "code",
   "execution_count": 131,
   "id": "7bd564bc",
   "metadata": {},
   "outputs": [
    {
     "name": "stdout",
     "output_type": "stream",
     "text": [
      "                                               files\n",
      "0  administration_for_childrens_services_response...\n",
      "1  community_referral_prevention_services_family_...\n",
      "2             department_for_the_aging_responses.pdf\n",
      "3              department_of_buildings_responses.pdf\n",
      "4  department_of_housing_preservation_and_develop...\n",
      "5     economic_development_corporation_responses.pdf\n",
      "6    landmarks_preservation_commission_responses.pdf\n",
      "7               nycha_blueprint_for_change_brief.pdf\n",
      "8              small_business_services_responses.pdf\n",
      "9                                          thumbs.db\n"
     ]
    },
    {
     "data": {
      "text/plain": [
       "pandas.core.frame.DataFrame"
      ]
     },
     "execution_count": 131,
     "metadata": {},
     "output_type": "execute_result"
    }
   ],
   "source": [
    "# Get lowercase version of strings\n",
    "\n",
    "dir_files_lc= dir_files.apply(lambda x: x.str.lower())\n",
    "print(dir_files_lc)\n",
    "type(dir_files_lc)"
   ]
  },
  {
   "cell_type": "code",
   "execution_count": 132,
   "id": "b1342026",
   "metadata": {},
   "outputs": [
    {
     "name": "stdout",
     "output_type": "stream",
     "text": [
      "                                               files\n",
      "0    administration_for_childrens_services_responses\n",
      "1  community_referral_prevention_services_family_...\n",
      "2                 department_for_the_aging_responses\n",
      "3                  department_of_buildings_responses\n",
      "4  department_of_housing_preservation_and_develop...\n",
      "5         economic_development_corporation_responses\n",
      "6        landmarks_preservation_commission_responses\n",
      "7                   nycha_blueprint_for_change_brief\n",
      "8                  small_business_services_responses\n",
      "9                                             Thumbs\n"
     ]
    },
    {
     "data": {
      "text/plain": [
       "pandas.core.frame.DataFrame"
      ]
     },
     "execution_count": 132,
     "metadata": {},
     "output_type": "execute_result"
    }
   ],
   "source": [
    "# Get filenames without extension\n",
    "dir_files_no_ext = dir_files.apply(lambda x: x.str.split('.').str[0])\n",
    "\n",
    "print(dir_files_no_ext)\n",
    "type(dir_files_no_ext)"
   ]
  },
  {
   "cell_type": "code",
   "execution_count": 133,
   "id": "4084e2bf",
   "metadata": {},
   "outputs": [
    {
     "name": "stdout",
     "output_type": "stream",
     "text": [
      "                                               files\n",
      "0    Administration For Childrens Services Responses\n",
      "1  Community Referral Prevention Services Family ...\n",
      "2                 Department For The Aging Responses\n",
      "3                  Department Of Buildings Responses\n",
      "4  Department Of Housing Preservation And Develop...\n",
      "5         Economic Development Corporation Responses\n",
      "6        Landmarks Preservation Commission Responses\n",
      "7                   Nycha Blueprint For Change Brief\n",
      "8                  Small Business Services Responses\n",
      "9                                             Thumbs\n"
     ]
    },
    {
     "data": {
      "text/plain": [
       "pandas.core.frame.DataFrame"
      ]
     },
     "execution_count": 133,
     "metadata": {},
     "output_type": "execute_result"
    }
   ],
   "source": [
    "# Get title case and replace underscores with empty whitespace\n",
    "# by chaining multiple string methods (title and replace)\n",
    "\n",
    "dir_files_human_readable = dir_files_no_ext.apply(lambda x: x.str.title().replace('_', ' ', regex=True))\n",
    "print(dir_files_human_readable)\n",
    "type(dir_files_human_readable)\n"
   ]
  },
  {
   "cell_type": "code",
   "execution_count": null,
   "id": "b806be8b",
   "metadata": {},
   "outputs": [],
   "source": [
    "# Export text file of filenames. Even though it is to_csv, sending to a .txt filepath will force it to create .txt file. \n",
    "dir_files.to_csv(dir_files_export, header=None, index=None, sep= ' ', mode='a')"
   ]
  },
  {
   "cell_type": "code",
   "execution_count": 134,
   "id": "e9dd6952",
   "metadata": {},
   "outputs": [],
   "source": [
    "dir_files['full_html_string'] = backend_path + dir_files_lc + '\">' + dir_files_human_readable + \"</a> </span>\" "
   ]
  },
  {
   "cell_type": "code",
   "execution_count": null,
   "id": "541f7390",
   "metadata": {},
   "outputs": [],
   "source": [
    "for index, row in dir_files.iterrows():\n",
    "    print(dir_files['full_html_string'], '\\n' '\\n')"
   ]
  },
  {
   "cell_type": "code",
   "execution_count": 146,
   "id": "9355838b",
   "metadata": {},
   "outputs": [],
   "source": [
    "# Export text file of filenames. Even though it is to_csv, sending to a .txt filepath will force it to create .txt file. \n",
    "dir_files['full_html_string'].to_csv(dir_files_export, header=None, index=None, sep= ' ', mode='a')"
   ]
  },
  {
   "cell_type": "code",
   "execution_count": null,
   "id": "3acc8c20",
   "metadata": {},
   "outputs": [],
   "source": []
  }
 ],
 "metadata": {
  "kernelspec": {
   "display_name": "Python 3",
   "language": "python",
   "name": "python3"
  },
  "language_info": {
   "codemirror_mode": {
    "name": "ipython",
    "version": 3
   },
   "file_extension": ".py",
   "mimetype": "text/x-python",
   "name": "python",
   "nbconvert_exporter": "python",
   "pygments_lexer": "ipython3",
   "version": "3.7.11"
  }
 },
 "nbformat": 4,
 "nbformat_minor": 5
}
