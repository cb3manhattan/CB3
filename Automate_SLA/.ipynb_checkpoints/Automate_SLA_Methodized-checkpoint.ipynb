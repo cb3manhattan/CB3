{
 "cells": [
  {
   "cell_type": "code",
   "execution_count": null,
   "id": "0d64fc13",
   "metadata": {},
   "outputs": [],
   "source": [
    "\"\"\"\n",
    "The purpose of this script is to automate SLA tasks. This includes creating folders for each month and establishment,\n",
    "creating emails and letters from templates, and more. \n",
    "\n",
    "\n",
    "Process:\n",
    "1) Copy list of items from online agenda into text doc as shown below\n",
    "2) I will likely want to quickly remove certain text from this, such as section descriptions like 'New Liquor License Applications,' or other info that will not go into the final outputs like the description of the license type. \n",
    "3) The most important thing will likely be keeping each entry to one line in the input file as I will likely use line breaks to parse each item. \n",
    "4) If this doesn't work, another option might be the period (.) followed by blank spaces. \n",
    "5) DBA format seems to be in parentheses after the name. \n",
    "6) I will have to manually add lawyers names.\n",
    "7) Agenda number is the number in the list itself. \n",
    "\n",
    "----------------------------------------------------------------------------\n",
    "1 - Open and read lines of text file\n",
    "    - https://www.geeksforgeeks.org/reading-writing-text-files-python/\n",
    "2 - Iterate through each line and build a dataframe / table from the relevant contents\n",
    "3 - Filter out rows that begin with numeric. These should be the agenda items. \n",
    "4 - split at period and get first item, which is the numeric agenda item number. \n",
    "5 - split again and get the business name\n",
    "6 - split again and get the address\n",
    "\n",
    "---------------------------------------------------------------------------------\n",
    "\n",
    "TO DO\n",
    " - Create code to remove illegal characters from strings ('B'way' and apostrophes have been replaced)\n",
    " - Start scripting work to input values into template letters\n",
    " - Create output for excel, which can serve a number of functions:\n",
    "     - a place to input additional info like lawyers name\n",
    "     - track other SLA items\n",
    " - Create similar script that takes as an input an excel file instead of a text file. \n",
    "\n",
    "\n",
    "\"\"\""
   ]
  },
  {
   "cell_type": "code",
   "execution_count": 1,
   "id": "ae6745e0",
   "metadata": {},
   "outputs": [],
   "source": [
    "import pandas as pd\n",
    "import datetime as dt\n",
    "from datetime import datetime\n",
    "import openpyxl\n",
    "import os\n",
    "import csv"
   ]
  },
  {
   "cell_type": "code",
   "execution_count": 2,
   "id": "ccde3bc7",
   "metadata": {},
   "outputs": [],
   "source": [
    "agenda_pull = r\"C:\\Users\\MN03\\Desktop\\Calvin Docs\\SLA\\Automation Work\\Example_Agenda_Pull.txt\""
   ]
  },
  {
   "cell_type": "code",
   "execution_count": 3,
   "id": "70157c83",
   "metadata": {},
   "outputs": [],
   "source": [
    "def make_sla_folders(agenda_pull):\n",
    "    \n",
    "    # Open the text file\n",
    "    #r+ = read/write access mode\n",
    "    agenda = open(agenda_pull, 'r+')\n",
    "    \n",
    "    #Readlines creates a list, where each index contains a line of text, which in this case is a single establishment. \n",
    "    contents = agenda.readlines()\n",
    "    \n",
    "    # Close the text file\n",
    "    agenda.close()\n",
    "    \n",
    "    # This creates a dataframe where each row is a line from the agenda pull\n",
    "    agenda_df = pd.DataFrame(contents, columns=['line'])\n",
    "    \n",
    "    #Remove illegal character (apostrophe) from each string, and replace 'B'way' with 'Broadway'\n",
    "    agenda_df = agenda_df.apply(lambda x: x.str.replace(\"B'way\", \"Broadway\"))\n",
    "    agenda_df = agenda_df.apply(lambda x: x.str.replace(\"'\", \"\"))\n",
    "    \n",
    "    # This line creates new column that contains a bool series with 'True' for every line that starts with a a digit\n",
    "    # Lines that do not contain a digit (agenda number) will be removed.\n",
    "    agenda_df['entry_row']= agenda_df['line'].str[0].str.isdigit()\n",
    "    \n",
    "    # Filters out rows that do not contain an agenda item (start with a digit). \n",
    "    # Because the entry_row column is boolean, just calling it as as a filter will remove False entries.  \n",
    "    agenda_df = agenda_df[agenda_df.entry_row]\n",
    "    \n",
    "    # Create new column with agenda number only for each row\n",
    "    agenda_df['agenda_number'] = agenda_df.loc[:,'line'].str.split(pat=\".\").str[0]\n",
    "    \n",
    "    # Create column with all agenda item info except for the agenda item number\n",
    "    agenda_df['agenda_info_no_number'] = agenda_df.loc[:,'line'].str.split(pat=\".\").str[1]\n",
    "    \n",
    "    # This partitions the string into:\n",
    "    # 1: business name\n",
    "    # 2: comma\n",
    "    # 3: address, and license type and notes\n",
    "    # Once partitioned the 1st and 3rd columns are output. \n",
    "    agenda_df['b_name'] = agenda_df.loc[:,'agenda_info_no_number'].str.partition(sep=\",\", expand=True)[0]\n",
    "    agenda_df['address'] = agenda_df.loc[:,'agenda_info_no_number'].str.partition(sep=\",\", expand=True)[2]\n",
    "    \n",
    "    # This creates a column showing the text in the first parentheses. The second set is not important because these will always be\n",
    "    # notes on the liquor licence, which aren't important for this exercise. \n",
    "    agenda_df['address_sup'] = agenda_df['address'].str.extract('\\(([^)]+)')\n",
    "\n",
    "    # The first set of parentheses contains either an address supplement, such as 'basement',\n",
    "    # or information about the liquor license. \n",
    "    # Strings containing 'op' or 'wb' are filtered out in the code below so that only address supplementary info remains. \n",
    "    agenda_df['address_sup3'] = agenda_df['address_sup'].str.contains('op|wb', na=True)\n",
    "    \n",
    "    # Replace all values in the address supplement column identified above as having 'op' or 'wb' with an empty string.\n",
    "    agenda_df['address_sup'] = agenda_df['address_sup'].mask(agenda_df['address_sup3'], \"\")\n",
    "    \n",
    "    # This line splits out the address and creates a new string with everything to the left of the first \n",
    "    # opening parenthesis, which is the primary address. \n",
    "    agenda_df['prim_address'] = agenda_df['address'].str.split(pat=\"(\").str[0]\n",
    "    \n",
    "    # This line removes '\\n' characters from each row\n",
    "    #df = df.replace('\\n','', regex=True)\n",
    "    agenda_df['prim_address'] = agenda_df['prim_address'].replace('\\n','', regex=True)\n",
    "    \n",
    "    # This line splits out the business name and creates a new string with everything to the left of the first \n",
    "    # opening parenthesis, which is the business trade name.\n",
    "    agenda_df['b_tradename'] = agenda_df['b_name'].str.split(pat=\"(\").str[0]\n",
    "    \n",
    "    # This creates a column showing the text in the first parentheses. The second set is not important because these will always be\n",
    "    # notes on the liquor licence, which aren't important for this exercise. \n",
    "    agenda_df['b_llc_name'] = agenda_df['b_name'].str.extract('\\(([^)]+)')\n",
    "\n",
    "    # This replaces NAN with empty string\n",
    "    agenda_df['b_llc_name'] =agenda_df['b_llc_name'].fillna('')\n",
    "    \n",
    "    # Current month (number and name) and year. This will be used to create top level folder. \n",
    "    month_name = str(datetime.now().strftime(\"%B\"))\n",
    "    month_num = str(datetime.now().month)\n",
    "    year = str(datetime.now().year)\n",
    "    \n",
    "    # This line creates the top level directory with the month, year, and 'SLA'\n",
    "    month_dir = month_num + '-' + month_name + ' ' + year + ' SLA'\n",
    "\n",
    "    \n",
    "    #Print message that script is running\n",
    "    print(\"Making SLA folders at following location:\")\n",
    "    \n",
    "    # FIND DESKTOP PATH and create a folder structure below it. \n",
    "    desktop = os.path.expanduser(\"~/Desktop\")\n",
    "    top_folder = 'SLA_AUTO_OUTPUT'\n",
    "    filepath = os.path.join(desktop, top_folder, month_dir)\n",
    "    os.makedirs(filepath)\n",
    "    print(filepath) \n",
    "    \n",
    "    # Strip whitespace from left and right of column. Consider doing this for other columns     \n",
    "    agenda_df['b_tradename'] = agenda_df.b_tradename.str.strip() \n",
    "    agenda_df['b_llc_name'] = agenda_df['b_llc_name'].str.strip()\n",
    "    agenda_df['prim_address'] = agenda_df['prim_address'].str.strip()\n",
    "    \n",
    "    \n",
    "    # 1 Make new folder path for each establishment\n",
    "    # 2 This will be the primary address followed by a dash followed by the trade name if it exists, else the LLC name\n",
    "    #      These will follow this pattern: '45 Avenue B - Lamias Fish Market'\n",
    "    #\n",
    "    for index, row in agenda_df.iterrows():\n",
    "        est_filepath = ''\n",
    "        if row.b_tradename != '':\n",
    "            est_filepath = row.prim_address + ' - ' + row.b_tradename\n",
    "        else:\n",
    "            est_filepath = row.prim_address + ' - ' + row.b_llc_name\n",
    "\n",
    "        fin_filepath = os.path.join(desktop, top_folder, month_dir, est_filepath)\n",
    "        os.makedirs(fin_filepath)\n",
    "        \n",
    "    return agenda_df;\n",
    "    "
   ]
  },
  {
   "cell_type": "code",
   "execution_count": 21,
   "id": "02f3d1a0",
   "metadata": {},
   "outputs": [],
   "source": [
    "september_pull =  r\"C:\\Users\\MN03\\Desktop\\Calvin Docs\\SLA\\Automation Work\\September_Agenda_Pull.txt\""
   ]
  },
  {
   "cell_type": "code",
   "execution_count": 4,
   "id": "4742c80d",
   "metadata": {},
   "outputs": [
    {
     "name": "stdout",
     "output_type": "stream",
     "text": [
      "Making SLA folders at following location:\n"
     ]
    },
    {
     "ename": "FileExistsError",
     "evalue": "[WinError 183] Cannot create a file when that file already exists: 'C:\\\\Users\\\\MN03/Desktop\\\\SLA_AUTO_OUTPUT\\\\9-September 2021 SLA'",
     "output_type": "error",
     "traceback": [
      "\u001b[1;31m---------------------------------------------------------------------------\u001b[0m",
      "\u001b[1;31mFileExistsError\u001b[0m                           Traceback (most recent call last)",
      "\u001b[1;32m<ipython-input-4-53e29025db74>\u001b[0m in \u001b[0;36m<module>\u001b[1;34m\u001b[0m\n\u001b[1;32m----> 1\u001b[1;33m \u001b[0mmake_sla_folders\u001b[0m\u001b[1;33m(\u001b[0m\u001b[0magenda_pull\u001b[0m\u001b[1;33m)\u001b[0m\u001b[1;33m\u001b[0m\u001b[1;33m\u001b[0m\u001b[0m\n\u001b[0m",
      "\u001b[1;32m<ipython-input-3-bf9e24f9f28c>\u001b[0m in \u001b[0;36mmake_sla_folders\u001b[1;34m(agenda_pull)\u001b[0m\n\u001b[0;32m     87\u001b[0m     \u001b[0mtop_folder\u001b[0m \u001b[1;33m=\u001b[0m \u001b[1;34m'SLA_AUTO_OUTPUT'\u001b[0m\u001b[1;33m\u001b[0m\u001b[1;33m\u001b[0m\u001b[0m\n\u001b[0;32m     88\u001b[0m     \u001b[0mfilepath\u001b[0m \u001b[1;33m=\u001b[0m \u001b[0mos\u001b[0m\u001b[1;33m.\u001b[0m\u001b[0mpath\u001b[0m\u001b[1;33m.\u001b[0m\u001b[0mjoin\u001b[0m\u001b[1;33m(\u001b[0m\u001b[0mdesktop\u001b[0m\u001b[1;33m,\u001b[0m \u001b[0mtop_folder\u001b[0m\u001b[1;33m,\u001b[0m \u001b[0mmonth_dir\u001b[0m\u001b[1;33m)\u001b[0m\u001b[1;33m\u001b[0m\u001b[1;33m\u001b[0m\u001b[0m\n\u001b[1;32m---> 89\u001b[1;33m     \u001b[0mos\u001b[0m\u001b[1;33m.\u001b[0m\u001b[0mmakedirs\u001b[0m\u001b[1;33m(\u001b[0m\u001b[0mfilepath\u001b[0m\u001b[1;33m)\u001b[0m\u001b[1;33m\u001b[0m\u001b[1;33m\u001b[0m\u001b[0m\n\u001b[0m\u001b[0;32m     90\u001b[0m     \u001b[0mprint\u001b[0m\u001b[1;33m(\u001b[0m\u001b[0mfilepath\u001b[0m\u001b[1;33m)\u001b[0m\u001b[1;33m\u001b[0m\u001b[1;33m\u001b[0m\u001b[0m\n\u001b[0;32m     91\u001b[0m \u001b[1;33m\u001b[0m\u001b[0m\n",
      "\u001b[1;32m~\\miniconda3\\envs\\cb3\\lib\\os.py\u001b[0m in \u001b[0;36mmakedirs\u001b[1;34m(name, mode, exist_ok)\u001b[0m\n\u001b[0;32m    221\u001b[0m             \u001b[1;32mreturn\u001b[0m\u001b[1;33m\u001b[0m\u001b[1;33m\u001b[0m\u001b[0m\n\u001b[0;32m    222\u001b[0m     \u001b[1;32mtry\u001b[0m\u001b[1;33m:\u001b[0m\u001b[1;33m\u001b[0m\u001b[1;33m\u001b[0m\u001b[0m\n\u001b[1;32m--> 223\u001b[1;33m         \u001b[0mmkdir\u001b[0m\u001b[1;33m(\u001b[0m\u001b[0mname\u001b[0m\u001b[1;33m,\u001b[0m \u001b[0mmode\u001b[0m\u001b[1;33m)\u001b[0m\u001b[1;33m\u001b[0m\u001b[1;33m\u001b[0m\u001b[0m\n\u001b[0m\u001b[0;32m    224\u001b[0m     \u001b[1;32mexcept\u001b[0m \u001b[0mOSError\u001b[0m\u001b[1;33m:\u001b[0m\u001b[1;33m\u001b[0m\u001b[1;33m\u001b[0m\u001b[0m\n\u001b[0;32m    225\u001b[0m         \u001b[1;31m# Cannot rely on checking for EEXIST, since the operating system\u001b[0m\u001b[1;33m\u001b[0m\u001b[1;33m\u001b[0m\u001b[1;33m\u001b[0m\u001b[0m\n",
      "\u001b[1;31mFileExistsError\u001b[0m: [WinError 183] Cannot create a file when that file already exists: 'C:\\\\Users\\\\MN03/Desktop\\\\SLA_AUTO_OUTPUT\\\\9-September 2021 SLA'"
     ]
    }
   ],
   "source": [
    "make_sla_folders(agenda_pull)"
   ]
  },
  {
   "cell_type": "code",
   "execution_count": 5,
   "id": "00cabb90",
   "metadata": {},
   "outputs": [
    {
     "name": "stdout",
     "output_type": "stream",
     "text": [
      "Making SLA folders at following location:\n",
      "C:\\Users\\MN03/Desktop\\SLA_AUTO_OUTPUT\\9-September 2021 SLA\n"
     ]
    }
   ],
   "source": [
    "agenda_df = make_sla_folders(agenda_pull)"
   ]
  },
  {
   "cell_type": "code",
   "execution_count": 9,
   "id": "c7418e73",
   "metadata": {},
   "outputs": [
    {
     "data": {
      "text/plain": [
       "'\\nMAKE SLA TRACKING SHEET\\n- Every month a new tracking sheet needs to be created. \\n- Use code above to pull information from the agenda and append it to columns in an excel template.\\n- The following columns are created:\\n    Agenda Number\\n    Business name\\n    DBA\\n    Address\\n    Address Supplement\\n    Rep Name \\n    Rep Email\\n    Rep Phone\\n    Sent Date\\n    Received \\n'"
      ]
     },
     "execution_count": 9,
     "metadata": {},
     "output_type": "execute_result"
    }
   ],
   "source": [
    "\"\"\"\n",
    "MAKE SLA TRACKING SHEET\n",
    "- Every month a new tracking sheet needs to be created. \n",
    "- Use code above to pull information from the agenda and append it to columns in an excel template.\n",
    "- The following columns are created:\n",
    "    Agenda Number\n",
    "    Business name\n",
    "    DBA\n",
    "    Address\n",
    "    Address Supplement\n",
    "    Rep Name \n",
    "    Rep Email\n",
    "    Rep Phone\n",
    "    Sent Date\n",
    "    Received \n",
    "\"\"\""
   ]
  },
  {
   "cell_type": "code",
   "execution_count": 28,
   "id": "df3ec93a",
   "metadata": {},
   "outputs": [
    {
     "data": {
      "text/plain": [
       "['INFO PULLED OFF ONLINE AGENDA:\\n',\n",
       " \"2.    Hwa Yuan Szechuan, 42-44 E B'way (op/alt: add additional floors/method of operation: add karaoke)\\n\",\n",
       " '3.    Bridgeview Hotel, 50 Bowery \\n',\n",
       " 'New Liquor License Applications\\n',\n",
       " '4.    Forsythia (JDS Restaurant LLC), 9 Stanton St (upgrade to op)\\n',\n",
       " \"5.    Roberta's (Avenue A Pizza LLC), 15 Ave A (op)\\n\",\n",
       " '6.    Lucky Lindon, 21 Essex St (op)\\n',\n",
       " '7.    Avenue C Hospitality LLC, 102 Ave C (op)\\n',\n",
       " '8.    Bar and Events 14th Street LLC, 124 E 14th St (op)\\n',\n",
       " '9.    Lucky Star (Parkside 3 NYC LLC), 135 Division St (wb)\\n',\n",
       " '10.    Moneygoround Inc, 235 Eldridge St (op)\\n',\n",
       " '11.    Sally Can Wait LLC, 252 Broome St (op)\\n',\n",
       " '12.    8282 (BBRH LLC), 84 Stanton St (op)\\n',\n",
       " '13.    Sour Mouse (Sweatshop LES LLC), 110 Delancey St (Basement) (upgrade to op)\\n',\n",
       " '14.    Tokyo Suhi 168 Inc, 151 Rivington St (op)\\n',\n",
       " '15.    Henry Street Pretzels LLC, 193 Henry St (1st Floor) (op)\\n',\n",
       " '16.    ACES (Fine Food and Spirits Inc), 197 2nd Ave (op)\\n',\n",
       " '17.    Fat Buddha (Fat Social Club), 212 Ave A (op)\\n',\n",
       " '18.    Lxta (LLC to be formed by Mike Himani), 299 Bowery (op)\\n',\n",
       " '19.    The York, 186 Ave B (op)\\n',\n",
       " 'Items not heard at Committee\\n',\n",
       " '20.    The Gray Mare (Meath Trails Inc), 61 2nd Ave (op/alt: removing additional bar, lengthening current bar, moving seating around in back room)\\n',\n",
       " '21.    Nai Tapas (Nai Tapas Restaurant Corp), 84 2nd Ave (wb/removal from 85 2nd Ave)\\n',\n",
       " '22.    3 Times (3 Times 90 Inc), 90-96 Clinton St (wb)\\n',\n",
       " '23.    Suki (Cafe TKJ Inc), 111 1st Ave (North) (wb)\\n',\n",
       " '24.    Tre (Jersey Boys LLC), 173 Ludlow St (op/method of operation change: add live music)\\n',\n",
       " '25.    Fat Choy (China Bull LLC), 250 Broome Street (wb/corp change)\\n',\n",
       " '26.    Crab Du Jour Xpress (CDJ Xpresss of Grand St LLC), 384 Grand St (#3) (wb)\\n']"
      ]
     },
     "execution_count": 28,
     "metadata": {},
     "output_type": "execute_result"
    }
   ],
   "source": [
    "agenda_df"
   ]
  },
  {
   "cell_type": "code",
   "execution_count": null,
   "id": "1a4fc10f",
   "metadata": {},
   "outputs": [],
   "source": []
  }
 ],
 "metadata": {
  "kernelspec": {
   "display_name": "Python 3",
   "language": "python",
   "name": "python3"
  },
  "language_info": {
   "codemirror_mode": {
    "name": "ipython",
    "version": 3
   },
   "file_extension": ".py",
   "mimetype": "text/x-python",
   "name": "python",
   "nbconvert_exporter": "python",
   "pygments_lexer": "ipython3",
   "version": "3.7.11"
  }
 },
 "nbformat": 4,
 "nbformat_minor": 5
}
