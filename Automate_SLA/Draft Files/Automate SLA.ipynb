{
 "cells": [
  {
   "cell_type": "code",
   "execution_count": null,
   "id": "ed4e6d5f",
   "metadata": {},
   "outputs": [],
   "source": [
    "\"\"\"\n",
    "The purpose of this script is to automate SLA tasks. This includes creating folders for each month and establishment,\n",
    "creating emails and letters from templates, and more. \n",
    "\n",
    "\n",
    "Process:\n",
    "1) Copy list of items from online agenda into text doc as shown below\n",
    "2) I will likely want to quickly remove certain text from this, such as section descriptions like 'New Liquor License Applications,' or other info that will not go into the final outputs like the description of the license type. \n",
    "3) The most important thing will likely be keeping each entry to one line in the input file as I will likely use line breaks to parse each item. \n",
    "4) If this doesn't work, another option might be the period (.) followed by blank spaces. \n",
    "5) DBA format seems to be in parentheses after the name. \n",
    "6) I will have to manually add lawyers names.\n",
    "7) Agenda number is the number in the list itself. \n",
    "\n",
    "\n",
    "\n",
    "\"\"\""
   ]
  },
  {
   "cell_type": "code",
   "execution_count": 2,
   "id": "434f3220",
   "metadata": {},
   "outputs": [],
   "source": [
    "import pandas as pd\n",
    "import datetime as dt\n",
    "import openpyxl\n",
    "import os"
   ]
  },
  {
   "cell_type": "code",
   "execution_count": 2,
   "id": "b1793d0f",
   "metadata": {},
   "outputs": [
    {
     "data": {
      "text/plain": [
       "'\\n1 - Iterate through each line and build a dataframe / table from the relevant contents\\n2 - First determine if line starts with number\\n\\n'"
      ]
     },
     "execution_count": 2,
     "metadata": {},
     "output_type": "execute_result"
    }
   ],
   "source": [
    "\"\"\"\n",
    "1 - Open and read lines of text file\n",
    "    - https://www.geeksforgeeks.org/reading-writing-text-files-python/\n",
    "2 - Iterate through each line and build a dataframe / table from the relevant contents\n",
    "3 - First determine if line starts with number\n",
    "\n",
    "\"\"\"\n"
   ]
  },
  {
   "cell_type": "code",
   "execution_count": 3,
   "id": "4d9b15b1",
   "metadata": {},
   "outputs": [],
   "source": [
    "agenda_pull = r\"C:\\Users\\MN03\\Desktop\\Calvin Docs\\SLA\\Automation Work\\Example_Agenda_Pull.txt\""
   ]
  },
  {
   "cell_type": "code",
   "execution_count": 50,
   "id": "0c827f47",
   "metadata": {},
   "outputs": [
    {
     "data": {
      "text/plain": [
       "True"
      ]
     },
     "execution_count": 50,
     "metadata": {},
     "output_type": "execute_result"
    }
   ],
   "source": [
    "os.path.isfile(agenda_pull)"
   ]
  },
  {
   "cell_type": "code",
   "execution_count": 51,
   "id": "ca1d36eb",
   "metadata": {},
   "outputs": [],
   "source": [
    "#r+ = read/write access mode\n",
    "agenda = open(agenda_pull, 'r+')"
   ]
  },
  {
   "cell_type": "code",
   "execution_count": 52,
   "id": "1415f304",
   "metadata": {},
   "outputs": [
    {
     "data": {
      "text/plain": [
       "<_io.TextIOWrapper name='C:\\\\Users\\\\MN03\\\\Desktop\\\\Calvin Docs\\\\SLA\\\\Automation Work\\\\Example_Agenda_Pull.txt' mode='r+' encoding='cp1252'>"
      ]
     },
     "execution_count": 52,
     "metadata": {},
     "output_type": "execute_result"
    }
   ],
   "source": [
    "agenda"
   ]
  },
  {
   "cell_type": "code",
   "execution_count": 53,
   "id": "686b043f",
   "metadata": {},
   "outputs": [],
   "source": [
    "#Readlines creates a list, where each index creates \n",
    "contents = agenda.readlines()"
   ]
  },
  {
   "cell_type": "code",
   "execution_count": 54,
   "id": "83e71d0c",
   "metadata": {},
   "outputs": [
    {
     "name": "stdout",
     "output_type": "stream",
     "text": [
      "['INFO PULLED OFF ONLINE AGENDA:\\n', \"2.    Hwa Yuan Szechuan, 42-44 E B'way (op/alt: add additional floors/method of operation: add karaoke)\\n\", '3.    Bridgeview Hotel, 50 Bowery \\n', 'New Liquor License Applications\\n', '4.    Forsythia (JDS Restaurant LLC), 9 Stanton St (upgrade to op)\\n', \"5.    Roberta's (Avenue A Pizza LLC), 15 Ave A (op)\\n\", '6.    Lucky Lindon, 21 Essex St (op)\\n', '7.    Avenue C Hospitality LLC, 102 Ave C (op)\\n', '8.    Bar and Events 14th Street LLC, 124 E 14th St (op)\\n', '9.    Lucky Star (Parkside 3 NYC LLC), 135 Division St (wb)\\n', '10.    Moneygoround Inc, 235 Eldridge St (op)\\n', '11.    Sally Can Wait LLC, 252 Broome St (op)\\n', '12.    8282 (BBRH LLC), 84 Stanton St (op)\\n', '13.    Sour Mouse (Sweatshop LES LLC), 110 Delancey St (Basement) (upgrade to op)\\n', '14.    Tokyo Suhi 168 Inc, 151 Rivington St (op)\\n', '15.    Henry Street Pretzels LLC, 193 Henry St (1st Floor) (op)\\n', '16.    ACES (Fine Food and Spirits Inc), 197 2nd Ave (op)\\n', '17.    Fat Buddha (Fat Social Club), 212 Ave A (op)\\n', '18.    Lxta (LLC to be formed by Mike Himani), 299 Bowery (op)\\n', '19.    The York, 186 Ave B (op)\\n', 'Items not heard at Committee\\n', '20.    The Gray Mare (Meath Trails Inc), 61 2nd Ave (op/alt: removing additional bar, lengthening current bar, moving seating around in back room)\\n', '21.    Nai Tapas (Nai Tapas Restaurant Corp), 84 2nd Ave (wb/removal from 85 2nd Ave)\\n', '22.    3 Times (3 Times 90 Inc), 90-96 Clinton St (wb)\\n', '23.    Suki (Cafe TKJ Inc), 111 1st Ave (North) (wb)\\n', '24.    Tre (Jersey Boys LLC), 173 Ludlow St (op/method of operation change: add live music)\\n', '25.    Fat Choy (China Bull LLC), 250 Broome Street (wb/corp change)\\n', '26.    Crab Du Jour Xpress (CDJ Xpresss of Grand St LLC), 384 Grand St (#3) (wb)']\n"
     ]
    }
   ],
   "source": [
    "print(contents)"
   ]
  },
  {
   "cell_type": "code",
   "execution_count": 55,
   "id": "f1a5aa3d",
   "metadata": {},
   "outputs": [
    {
     "name": "stdout",
     "output_type": "stream",
     "text": [
      "2.    Hwa Yuan Szechuan, 42-44 E B'way (op/alt: add additional floors/method of operation: add karaoke)\n",
      "\n"
     ]
    }
   ],
   "source": [
    "print(contents[1])"
   ]
  },
  {
   "cell_type": "code",
   "execution_count": 56,
   "id": "dfdde508",
   "metadata": {},
   "outputs": [],
   "source": [
    "# BUILD OUT DATAFRAME from Text File\n",
    "# df = pd.DataFrame(columns = ['agenda_number', 'business_name', 'dba', 'address'])\n",
    "\n",
    "df = pd.DataFrame(columns = ['line'])"
   ]
  },
  {
   "cell_type": "code",
   "execution_count": 57,
   "id": "9b1634d5",
   "metadata": {},
   "outputs": [],
   "source": [
    "# This creates a dataframe where each row is a line from the agenda pull\n",
    "\n",
    "agenda_df = pd.DataFrame(contents, columns=['line'])"
   ]
  },
  {
   "cell_type": "code",
   "execution_count": 58,
   "id": "8de8c7d2",
   "metadata": {},
   "outputs": [
    {
     "data": {
      "text/plain": [
       "'I'"
      ]
     },
     "execution_count": 58,
     "metadata": {},
     "output_type": "execute_result"
    }
   ],
   "source": [
    "#df.loc[0,:]\n",
    "#First character of first string in first row.\n",
    "agenda_df.loc[0][0][0] "
   ]
  },
  {
   "cell_type": "code",
   "execution_count": 59,
   "id": "06adab49",
   "metadata": {},
   "outputs": [
    {
     "data": {
      "text/plain": [
       "0     I\n",
       "1     2\n",
       "2     3\n",
       "3     N\n",
       "4     4\n",
       "5     5\n",
       "6     6\n",
       "7     7\n",
       "8     8\n",
       "9     9\n",
       "10    1\n",
       "11    1\n",
       "12    1\n",
       "13    1\n",
       "14    1\n",
       "15    1\n",
       "16    1\n",
       "17    1\n",
       "18    1\n",
       "19    1\n",
       "20    I\n",
       "21    2\n",
       "22    2\n",
       "23    2\n",
       "24    2\n",
       "25    2\n",
       "26    2\n",
       "27    2\n",
       "Name: line, dtype: object"
      ]
     },
     "execution_count": 59,
     "metadata": {},
     "output_type": "execute_result"
    }
   ],
   "source": [
    "agenda_df['line'].str[0]"
   ]
  },
  {
   "cell_type": "code",
   "execution_count": 60,
   "id": "e006bc83",
   "metadata": {},
   "outputs": [
    {
     "ename": "AttributeError",
     "evalue": "'Series' object has no attribute 'isdigit'",
     "output_type": "error",
     "traceback": [
      "\u001b[1;31m---------------------------------------------------------------------------\u001b[0m",
      "\u001b[1;31mAttributeError\u001b[0m                            Traceback (most recent call last)",
      "\u001b[1;32m<ipython-input-60-6961982900dd>\u001b[0m in \u001b[0;36m<module>\u001b[1;34m\u001b[0m\n\u001b[0;32m      1\u001b[0m \u001b[1;31m# df.drop(df[df['Age'] < 25].index, inplace = True)\u001b[0m\u001b[1;33m\u001b[0m\u001b[1;33m\u001b[0m\u001b[1;33m\u001b[0m\u001b[0m\n\u001b[1;32m----> 2\u001b[1;33m \u001b[0magenda_df\u001b[0m\u001b[1;33m.\u001b[0m\u001b[0mdrop\u001b[0m\u001b[1;33m[\u001b[0m\u001b[0magenda_df\u001b[0m\u001b[1;33m[\u001b[0m\u001b[1;34m'line'\u001b[0m\u001b[1;33m]\u001b[0m\u001b[1;33m.\u001b[0m\u001b[0mstr\u001b[0m\u001b[1;33m[\u001b[0m\u001b[1;36m0\u001b[0m\u001b[1;33m]\u001b[0m\u001b[1;33m.\u001b[0m\u001b[0misdigit\u001b[0m\u001b[1;33m(\u001b[0m\u001b[1;33m)\u001b[0m \u001b[1;33m]\u001b[0m\u001b[1;33m\u001b[0m\u001b[1;33m\u001b[0m\u001b[0m\n\u001b[0m",
      "\u001b[1;32m~\\miniconda3\\envs\\cb3\\lib\\site-packages\\pandas\\core\\generic.py\u001b[0m in \u001b[0;36m__getattr__\u001b[1;34m(self, name)\u001b[0m\n\u001b[0;32m   5476\u001b[0m         ):\n\u001b[0;32m   5477\u001b[0m             \u001b[1;32mreturn\u001b[0m \u001b[0mself\u001b[0m\u001b[1;33m[\u001b[0m\u001b[0mname\u001b[0m\u001b[1;33m]\u001b[0m\u001b[1;33m\u001b[0m\u001b[1;33m\u001b[0m\u001b[0m\n\u001b[1;32m-> 5478\u001b[1;33m         \u001b[1;32mreturn\u001b[0m \u001b[0mobject\u001b[0m\u001b[1;33m.\u001b[0m\u001b[0m__getattribute__\u001b[0m\u001b[1;33m(\u001b[0m\u001b[0mself\u001b[0m\u001b[1;33m,\u001b[0m \u001b[0mname\u001b[0m\u001b[1;33m)\u001b[0m\u001b[1;33m\u001b[0m\u001b[1;33m\u001b[0m\u001b[0m\n\u001b[0m\u001b[0;32m   5479\u001b[0m \u001b[1;33m\u001b[0m\u001b[0m\n\u001b[0;32m   5480\u001b[0m     \u001b[1;32mdef\u001b[0m \u001b[0m__setattr__\u001b[0m\u001b[1;33m(\u001b[0m\u001b[0mself\u001b[0m\u001b[1;33m,\u001b[0m \u001b[0mname\u001b[0m\u001b[1;33m:\u001b[0m \u001b[0mstr\u001b[0m\u001b[1;33m,\u001b[0m \u001b[0mvalue\u001b[0m\u001b[1;33m)\u001b[0m \u001b[1;33m->\u001b[0m \u001b[1;32mNone\u001b[0m\u001b[1;33m:\u001b[0m\u001b[1;33m\u001b[0m\u001b[1;33m\u001b[0m\u001b[0m\n",
      "\u001b[1;31mAttributeError\u001b[0m: 'Series' object has no attribute 'isdigit'"
     ]
    }
   ],
   "source": [
    "# df.drop(df[df['Age'] < 25].index, inplace = True)\n",
    "agenda_df.drop[agenda_df['line'].str[0].isdigit() ]"
   ]
  },
  {
   "cell_type": "code",
   "execution_count": 61,
   "id": "9dacc2db",
   "metadata": {},
   "outputs": [
    {
     "data": {
      "text/plain": [
       "0     I\n",
       "1     2\n",
       "2     3\n",
       "3     N\n",
       "4     4\n",
       "5     5\n",
       "6     6\n",
       "7     7\n",
       "8     8\n",
       "9     9\n",
       "10    1\n",
       "11    1\n",
       "12    1\n",
       "13    1\n",
       "14    1\n",
       "15    1\n",
       "16    1\n",
       "17    1\n",
       "18    1\n",
       "19    1\n",
       "20    I\n",
       "21    2\n",
       "22    2\n",
       "23    2\n",
       "24    2\n",
       "25    2\n",
       "26    2\n",
       "27    2\n",
       "Name: line, dtype: object"
      ]
     },
     "execution_count": 61,
     "metadata": {},
     "output_type": "execute_result"
    }
   ],
   "source": [
    "# Get first character of each row. This will help remove items that are not numeric. \n",
    "agenda_df['line'].str[0]"
   ]
  },
  {
   "cell_type": "code",
   "execution_count": 62,
   "id": "ad6c8618",
   "metadata": {},
   "outputs": [],
   "source": [
    "# Remove leading and trailing characters in Series/Index.\n",
    "# agenda_df = agenda_df['line'].str.lstrip()"
   ]
  },
  {
   "cell_type": "code",
   "execution_count": 63,
   "id": "8acc1b47",
   "metadata": {},
   "outputs": [
    {
     "data": {
      "text/plain": [
       "0                      INFO PULLED OFF ONLINE AGENDA:\\n\n",
       "1     2.    Hwa Yuan Szechuan, 42-44 E B'way (op/alt...\n",
       "2                  3.    Bridgeview Hotel, 50 Bowery \\n\n",
       "3                     New Liquor License Applications\\n\n",
       "4     4.    Forsythia (JDS Restaurant LLC), 9 Stanto...\n",
       "5     5.    Roberta's (Avenue A Pizza LLC), 15 Ave A...\n",
       "6                6.    Lucky Lindon, 21 Essex St (op)\\n\n",
       "7      7.    Avenue C Hospitality LLC, 102 Ave C (op)\\n\n",
       "8     8.    Bar and Events 14th Street LLC, 124 E 14...\n",
       "9     9.    Lucky Star (Parkside 3 NYC LLC), 135 Div...\n",
       "10      10.    Moneygoround Inc, 235 Eldridge St (op)\\n\n",
       "11      11.    Sally Can Wait LLC, 252 Broome St (op)\\n\n",
       "12         12.    8282 (BBRH LLC), 84 Stanton St (op)\\n\n",
       "13    13.    Sour Mouse (Sweatshop LES LLC), 110 Del...\n",
       "14    14.    Tokyo Suhi 168 Inc, 151 Rivington St (o...\n",
       "15    15.    Henry Street Pretzels LLC, 193 Henry St...\n",
       "16    16.    ACES (Fine Food and Spirits Inc), 197 2...\n",
       "17    17.    Fat Buddha (Fat Social Club), 212 Ave A...\n",
       "18    18.    Lxta (LLC to be formed by Mike Himani),...\n",
       "19                    19.    The York, 186 Ave B (op)\\n\n",
       "20                       Items not heard at Committee\\n\n",
       "21    20.    The Gray Mare (Meath Trails Inc), 61 2n...\n",
       "22    21.    Nai Tapas (Nai Tapas Restaurant Corp), ...\n",
       "23    22.    3 Times (3 Times 90 Inc), 90-96 Clinton...\n",
       "24    23.    Suki (Cafe TKJ Inc), 111 1st Ave (North...\n",
       "25    24.    Tre (Jersey Boys LLC), 173 Ludlow St (o...\n",
       "26    25.    Fat Choy (China Bull LLC), 250 Broome S...\n",
       "27    26.    Crab Du Jour Xpress (CDJ Xpresss of Gra...\n",
       "Name: line, dtype: object"
      ]
     },
     "execution_count": 63,
     "metadata": {},
     "output_type": "execute_result"
    }
   ],
   "source": [
    "agenda_df['line']"
   ]
  },
  {
   "cell_type": "code",
   "execution_count": null,
   "id": "5fbc1948",
   "metadata": {},
   "outputs": [],
   "source": [
    "# Get first character of each row. This will help remove items that are not numeric. \n",
    "agenda_df['line'].str[0]"
   ]
  },
  {
   "cell_type": "code",
   "execution_count": 46,
   "id": "9f943740",
   "metadata": {},
   "outputs": [],
   "source": [
    "# remove blank spaces\n",
    "# agenda_df['line']= agenda_df['line'].str.replace(\" \", \"\")  "
   ]
  },
  {
   "cell_type": "code",
   "execution_count": null,
   "id": "d2b7529e",
   "metadata": {},
   "outputs": [],
   "source": [
    "# This code iterates through the agenda text\n",
    "\n",
    "# for index, line in enumerate(lines):\n",
    "#    print(\"Line {}: {}\".format(index, line.strip()))\n",
    "\n",
    "for line in contents:\n",
    "    if line[0].isdigit():\n",
    "        print(line, \"is: \", type(line))\n"
   ]
  },
  {
   "cell_type": "code",
   "execution_count": 64,
   "id": "ad9dbe6d",
   "metadata": {},
   "outputs": [],
   "source": [
    "# creating bool series with new column\n",
    "agenda_df['entry_row']= agenda_df['line'].str[0].str.isdigit()"
   ]
  },
  {
   "cell_type": "code",
   "execution_count": 71,
   "id": "2d583bfd",
   "metadata": {},
   "outputs": [
    {
     "ename": "SyntaxError",
     "evalue": "invalid syntax (<ipython-input-71-a36c48fb4988>, line 2)",
     "output_type": "error",
     "traceback": [
      "\u001b[1;36m  File \u001b[1;32m\"<ipython-input-71-a36c48fb4988>\"\u001b[1;36m, line \u001b[1;32m2\u001b[0m\n\u001b[1;33m    agenda_df~[agenda_df.entry_row]\u001b[0m\n\u001b[1;37m             ^\u001b[0m\n\u001b[1;31mSyntaxError\u001b[0m\u001b[1;31m:\u001b[0m invalid syntax\n"
     ]
    }
   ],
   "source": [
    "# Filters \n",
    "agenda_df[agenda_df.entry_row]"
   ]
  },
  {
   "cell_type": "code",
   "execution_count": null,
   "id": "2be3d178",
   "metadata": {},
   "outputs": [],
   "source": []
  }
 ],
 "metadata": {
  "kernelspec": {
   "display_name": "Python 3",
   "language": "python",
   "name": "python3"
  },
  "language_info": {
   "codemirror_mode": {
    "name": "ipython",
    "version": 3
   },
   "file_extension": ".py",
   "mimetype": "text/x-python",
   "name": "python",
   "nbconvert_exporter": "python",
   "pygments_lexer": "ipython3",
   "version": "3.7.11"
  }
 },
 "nbformat": 4,
 "nbformat_minor": 5
}
