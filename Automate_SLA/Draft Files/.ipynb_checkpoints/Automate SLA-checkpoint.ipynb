{
 "cells": [
  {
   "cell_type": "code",
   "execution_count": null,
   "id": "ed4e6d5f",
   "metadata": {},
   "outputs": [],
   "source": [
    "\"\"\"\n",
    "The purpose of this script \n",
    "\n",
    "\n",
    "Process:\n",
    "1) Copy list of items from online agenda into text doc as shown below\n",
    "2) I will likely want to quickly remove certain text from this, such as section descriptions like 'New Liquor License Applications,' or other info that will not go into the final outputs like the description of the license type. \n",
    "3) The most important thing will likely be keeping each entry to one line in the input file as I will likely use line breaks to parse each item. \n",
    "4) If this doesn't work, another option might be the period (.) followed by blank spaces. \n",
    "5) DBA format seems to be in parentheses after the name. \n",
    "6) I will have to manually add lawyers names.\n",
    "7) Agenda number is the number in the list itself. \n",
    "\n",
    "\n",
    "\n",
    "\"\"\""
   ]
  },
  {
   "cell_type": "code",
   "execution_count": 9,
   "id": "434f3220",
   "metadata": {},
   "outputs": [],
   "source": [
    "import pandas as pd\n",
    "import datetime as dt\n",
    "import openpyxl\n",
    "import os"
   ]
  },
  {
   "cell_type": "code",
   "execution_count": 2,
   "id": "b1793d0f",
   "metadata": {},
   "outputs": [
    {
     "data": {
      "text/plain": [
       "'\\n1 - Iterate through each line and build a dataframe / table from the relevant contents\\n2 - First determine if line starts with number\\n\\n'"
      ]
     },
     "execution_count": 2,
     "metadata": {},
     "output_type": "execute_result"
    }
   ],
   "source": [
    "\"\"\"\n",
    "1 - Open and read lines of text file\n",
    "    - https://www.geeksforgeeks.org/reading-writing-text-files-python/\n",
    "2 - Iterate through each line and build a dataframe / table from the relevant contents\n",
    "3 - First determine if line starts with number\n",
    "\n",
    "\"\"\"\n"
   ]
  },
  {
   "cell_type": "code",
   "execution_count": 8,
   "id": "4d9b15b1",
   "metadata": {},
   "outputs": [],
   "source": [
    "agenda_pull = r\"C:\\Users\\MN03\\Desktop\\Calvin Docs\\SLA\\Automation Work\\Example_Agenda_Pull.txt\""
   ]
  },
  {
   "cell_type": "code",
   "execution_count": 12,
   "id": "c163b6fd",
   "metadata": {},
   "outputs": [
    {
     "data": {
      "text/plain": [
       "True"
      ]
     },
     "execution_count": 12,
     "metadata": {},
     "output_type": "execute_result"
    }
   ],
   "source": [
    "os.path.isfile(agenda_pull)"
   ]
  },
  {
   "cell_type": "code",
   "execution_count": 18,
   "id": "ca1d36eb",
   "metadata": {},
   "outputs": [],
   "source": [
    "#r+ = read/write access mode\n",
    "agenda = open(agenda_pull, 'r+')"
   ]
  },
  {
   "cell_type": "code",
   "execution_count": 19,
   "id": "1415f304",
   "metadata": {},
   "outputs": [
    {
     "data": {
      "text/plain": [
       "<_io.TextIOWrapper name='C:\\\\Users\\\\MN03\\\\Desktop\\\\Calvin Docs\\\\SLA\\\\Automation Work\\\\Example_Agenda_Pull.txt' mode='r+' encoding='cp1252'>"
      ]
     },
     "execution_count": 19,
     "metadata": {},
     "output_type": "execute_result"
    }
   ],
   "source": [
    "agenda"
   ]
  },
  {
   "cell_type": "code",
   "execution_count": 20,
   "id": "686b043f",
   "metadata": {},
   "outputs": [],
   "source": [
    "#Readlines creates a list, where each index creates \n",
    "contents = agenda.readlines()"
   ]
  },
  {
   "cell_type": "code",
   "execution_count": 21,
   "id": "83e71d0c",
   "metadata": {},
   "outputs": [
    {
     "name": "stdout",
     "output_type": "stream",
     "text": [
      "['INFO PULLED OFF ONLINE AGENDA:\\n', \"2.    Hwa Yuan Szechuan, 42-44 E B'way (op/alt: add additional floors/method of operation: add karaoke)\\n\", '3.    Bridgeview Hotel, 50 Bowery \\n', 'New Liquor License Applications\\n', '4.    Forsythia (JDS Restaurant LLC), 9 Stanton St (upgrade to op)\\n', \"5.    Roberta's (Avenue A Pizza LLC), 15 Ave A (op)\\n\", '6.    Lucky Lindon, 21 Essex St (op)\\n', '7.    Avenue C Hospitality LLC, 102 Ave C (op)\\n', '8.    Bar and Events 14th Street LLC, 124 E 14th St (op)\\n', '9.    Lucky Star (Parkside 3 NYC LLC), 135 Division St (wb)\\n', '10.    Moneygoround Inc, 235 Eldridge St (op)\\n', '11.    Sally Can Wait LLC, 252 Broome St (op)\\n', '12.    8282 (BBRH LLC), 84 Stanton St (op)\\n', '13.    Sour Mouse (Sweatshop LES LLC), 110 Delancey St (Basement) (upgrade to op)\\n', '14.    Tokyo Suhi 168 Inc, 151 Rivington St (op)\\n', '15.    Henry Street Pretzels LLC, 193 Henry St (1st Floor) (op)\\n', '16.    ACES (Fine Food and Spirits Inc), 197 2nd Ave (op)\\n', '17.    Fat Buddha (Fat Social Club), 212 Ave A (op)\\n', '18.    Lxta (LLC to be formed by Mike Himani), 299 Bowery (op)\\n', '19.    The York, 186 Ave B (op)\\n', 'Items not heard at Committee\\n', '20.    The Gray Mare (Meath Trails Inc), 61 2nd Ave (op/alt: removing additional bar, lengthening current bar, moving seating around in back room)\\n', '21.    Nai Tapas (Nai Tapas Restaurant Corp), 84 2nd Ave (wb/removal from 85 2nd Ave)\\n', '22.    3 Times (3 Times 90 Inc), 90-96 Clinton St (wb)\\n', '23.    Suki (Cafe TKJ Inc), 111 1st Ave (North) (wb)\\n', '24.    Tre (Jersey Boys LLC), 173 Ludlow St (op/method of operation change: add live music)\\n', '25.    Fat Choy (China Bull LLC), 250 Broome Street (wb/corp change)\\n', '26.    Crab Du Jour Xpress (CDJ Xpresss of Grand St LLC), 384 Grand St (#3) (wb)']\n"
     ]
    }
   ],
   "source": [
    "print(contents)"
   ]
  },
  {
   "cell_type": "code",
   "execution_count": 23,
   "id": "e11f6501",
   "metadata": {},
   "outputs": [
    {
     "name": "stdout",
     "output_type": "stream",
     "text": [
      "2.    Hwa Yuan Szechuan, 42-44 E B'way (op/alt: add additional floors/method of operation: add karaoke)\n",
      "\n"
     ]
    }
   ],
   "source": [
    "print(contents[1])"
   ]
  },
  {
   "cell_type": "code",
   "execution_count": 34,
   "id": "e651b77f",
   "metadata": {},
   "outputs": [
    {
     "name": "stdout",
     "output_type": "stream",
     "text": [
      "2.    Hwa Yuan Szechuan, 42-44 E B'way (op/alt: add additional floors/method of operation: add karaoke)\n",
      "\n",
      "3.    Bridgeview Hotel, 50 Bowery \n",
      "\n",
      "4.    Forsythia (JDS Restaurant LLC), 9 Stanton St (upgrade to op)\n",
      "\n",
      "5.    Roberta's (Avenue A Pizza LLC), 15 Ave A (op)\n",
      "\n",
      "6.    Lucky Lindon, 21 Essex St (op)\n",
      "\n",
      "7.    Avenue C Hospitality LLC, 102 Ave C (op)\n",
      "\n",
      "8.    Bar and Events 14th Street LLC, 124 E 14th St (op)\n",
      "\n",
      "9.    Lucky Star (Parkside 3 NYC LLC), 135 Division St (wb)\n",
      "\n",
      "10.    Moneygoround Inc, 235 Eldridge St (op)\n",
      "\n",
      "11.    Sally Can Wait LLC, 252 Broome St (op)\n",
      "\n",
      "12.    8282 (BBRH LLC), 84 Stanton St (op)\n",
      "\n",
      "13.    Sour Mouse (Sweatshop LES LLC), 110 Delancey St (Basement) (upgrade to op)\n",
      "\n",
      "14.    Tokyo Suhi 168 Inc, 151 Rivington St (op)\n",
      "\n",
      "15.    Henry Street Pretzels LLC, 193 Henry St (1st Floor) (op)\n",
      "\n",
      "16.    ACES (Fine Food and Spirits Inc), 197 2nd Ave (op)\n",
      "\n",
      "17.    Fat Buddha (Fat Social Club), 212 Ave A (op)\n",
      "\n",
      "18.    Lxta (LLC to be formed by Mike Himani), 299 Bowery (op)\n",
      "\n",
      "19.    The York, 186 Ave B (op)\n",
      "\n",
      "20.    The Gray Mare (Meath Trails Inc), 61 2nd Ave (op/alt: removing additional bar, lengthening current bar, moving seating around in back room)\n",
      "\n",
      "21.    Nai Tapas (Nai Tapas Restaurant Corp), 84 2nd Ave (wb/removal from 85 2nd Ave)\n",
      "\n",
      "22.    3 Times (3 Times 90 Inc), 90-96 Clinton St (wb)\n",
      "\n",
      "23.    Suki (Cafe TKJ Inc), 111 1st Ave (North) (wb)\n",
      "\n",
      "24.    Tre (Jersey Boys LLC), 173 Ludlow St (op/method of operation change: add live music)\n",
      "\n",
      "25.    Fat Choy (China Bull LLC), 250 Broome Street (wb/corp change)\n",
      "\n",
      "26.    Crab Du Jour Xpress (CDJ Xpresss of Grand St LLC), 384 Grand St (#3) (wb)\n"
     ]
    }
   ],
   "source": [
    "# for index, line in enumerate(lines):\n",
    "#    print(\"Line {}: {}\".format(index, line.strip()))\n",
    "\n",
    "for line in contents:\n",
    "    if line[0].isdigit():\n",
    "        print(line)"
   ]
  },
  {
   "cell_type": "code",
   "execution_count": null,
   "id": "da071f61",
   "metadata": {},
   "outputs": [],
   "source": []
  }
 ],
 "metadata": {
  "kernelspec": {
   "display_name": "Python 3",
   "language": "python",
   "name": "python3"
  },
  "language_info": {
   "codemirror_mode": {
    "name": "ipython",
    "version": 3
   },
   "file_extension": ".py",
   "mimetype": "text/x-python",
   "name": "python",
   "nbconvert_exporter": "python",
   "pygments_lexer": "ipython3",
   "version": "3.7.11"
  }
 },
 "nbformat": 4,
 "nbformat_minor": 5
}
